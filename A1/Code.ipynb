{
 "cells": [
  {
   "cell_type": "code",
   "execution_count": 49,
   "metadata": {},
   "outputs": [],
   "source": [
    "import nltk\n",
    "import pandas as pd\n",
    "import numpy as np\n",
    "import math\n",
    "import random\n",
    "import pickle\n",
    "from scipy import stats\n",
    "from collections import Counter"
   ]
  },
  {
   "cell_type": "markdown",
   "metadata": {},
   "source": [
    "Read Files"
   ]
  },
  {
   "cell_type": "code",
   "execution_count": 2,
   "metadata": {},
   "outputs": [],
   "source": [
    "with open('vocab-wordsim.txt') as f1:\n",
    "    vocab_wordsim = f1.read().splitlines()\n",
    "\n",
    "with open('vocab-25k.txt', encoding=\"utf8\") as f2:\n",
    "    vocab_25k = f2.read().splitlines()\n",
    "\n",
    "with open('wiki-1percent.txt', encoding=\"utf8\") as f3:\n",
    "    wiki = f3.read()\n",
    "\n",
    "with open('men.txt') as f4:\n",
    "    men = f4.read().splitlines()\n",
    "\n",
    "with open('simlex-999.txt') as f5:\n",
    "    simlex = f5.read().splitlines()"
   ]
  },
  {
   "cell_type": "markdown",
   "metadata": {},
   "source": [
    "Helper Functions"
   ]
  },
  {
   "cell_type": "code",
   "execution_count": 3,
   "metadata": {},
   "outputs": [],
   "source": [
    "# Pad sentences and tokenize wiki corpus into list of tokens\n",
    "def pad_and_tokenize(wiki):\n",
    "    sentences = nltk.sent_tokenize(wiki)\n",
    "    corpus = []\n",
    "    for s in sentences:\n",
    "        corpus += ['<s>'] + nltk.word_tokenize(s) + ['</s>']\n",
    "    return corpus"
   ]
  },
  {
   "cell_type": "code",
   "execution_count": 4,
   "metadata": {},
   "outputs": [],
   "source": [
    "# Distributional counting of the corpus given center words, context words, and context window\n",
    "def counting(center, context, corpus, w):\n",
    "    n = len(corpus)\n",
    "    c = {}\n",
    "    center_count = {}\n",
    "    context_count = {}\n",
    "    \n",
    "    #iterate over the corpus once\n",
    "    for index, token in enumerate(corpus):\n",
    "        if token in center:\n",
    "            range_ = list(range(max(0, index-w), index))+list(range(index+1, min(n, index+w+1)))\n",
    "            for i in range_:\n",
    "                word = corpus[i]\n",
    "                if word in context:\n",
    "                    if not token in c:\n",
    "                        c[token] = {}\n",
    "                        center_count[token] = 0\n",
    "                    if not word in context_count:\n",
    "                        context_count[word] = 0\n",
    "                    c[token][word] = c[token].get(word, 0) + 1\n",
    "                    center_count[token] += 1\n",
    "                    context_count[word] += 1\n",
    "    \n",
    "    return c, center_count, context_count"
   ]
  },
  {
   "cell_type": "code",
   "execution_count": 5,
   "metadata": {},
   "outputs": [],
   "source": [
    "# Transform human-annotated word similarities into a list of word pairs and a list of scores\n",
    "def preprocess_ws(ws):\n",
    "    pairs = []\n",
    "    scores = []\n",
    "    for entry in ws[1:]:\n",
    "        lst = entry.split()\n",
    "        pairs.append((lst[0], lst[1]))\n",
    "        scores.append(float(lst[2]))\n",
    "    return (pairs, scores)"
   ]
  },
  {
   "cell_type": "code",
   "execution_count": 6,
   "metadata": {},
   "outputs": [],
   "source": [
    "men = preprocess_ws(men)\n",
    "simlex = preprocess_ws(simlex)"
   ]
  },
  {
   "cell_type": "code",
   "execution_count": 7,
   "metadata": {},
   "outputs": [],
   "source": [
    "# Calculate the L2 distance of context-word counts for a center word\n",
    "def calc_vector_length(d):\n",
    "    l = [count for count in d.values()]\n",
    "    return np.linalg.norm(l)"
   ]
  },
  {
   "cell_type": "code",
   "execution_count": 8,
   "metadata": {},
   "outputs": [],
   "source": [
    "# Calculate the cosine similarity of two center-word row vectors (represented by dicts)\n",
    "def calc_cossim(d1, d2):\n",
    "    n1 = len(d1)\n",
    "    n2 = len(d2)    \n",
    "    dot_product = 0\n",
    "    \n",
    "    if n1 < n2:\n",
    "        for key in d1:\n",
    "            if key in d2:\n",
    "                dot_product += d1[key]*d2[key]    \n",
    "    else:\n",
    "        for key in d2:\n",
    "            if key in d1:\n",
    "                dot_product += d1[key]*d2[key]\n",
    "    \n",
    "    return dot_product/(calc_vector_length(d1)*calc_vector_length(d2))"
   ]
  },
  {
   "cell_type": "code",
   "execution_count": 9,
   "metadata": {},
   "outputs": [],
   "source": [
    "# Returns spearman's rho between the specified human-annotated word similarities and the similarities based on the matrix in hand\n",
    "def eval_ws(ws, c):\n",
    "    pairs = ws[0]\n",
    "    scores = ws[1]\n",
    "    c_scores = []\n",
    "    \n",
    "    for pair in pairs:\n",
    "        w1 = pair[0]\n",
    "        w2 = pair[1]\n",
    "        if (w1 not in c) or (w2 not in c):\n",
    "            c_scores.append(0)\n",
    "        else:\n",
    "            c_scores.append(calc_cossim(c[w1], c[w2]))\n",
    "\n",
    "    return stats.spearmanr(scores, c_scores)"
   ]
  },
  {
   "cell_type": "code",
   "execution_count": 10,
   "metadata": {},
   "outputs": [],
   "source": [
    "# Generate PMI matrix based on the matrix of count\n",
    "def calc_pmi(c, center_count, context_count):\n",
    "    n = sum(list(center_count.values()))\n",
    "    cpmi = {}\n",
    "    for token, d in c.items():\n",
    "        cpmi[token] = {}\n",
    "        for word, count in d.items():           \n",
    "            cpmi[token][word] = math.log(n*count/(center_count[token]*context_count[word]), 2)\n",
    "    return cpmi"
   ]
  },
  {
   "cell_type": "code",
   "execution_count": 11,
   "metadata": {},
   "outputs": [],
   "source": [
    "# print top n nearest neighbors\n",
    "def get_nearest_neighbors(cpmi, keyword, n):\n",
    "    if not keyword in cpmi:\n",
    "        print(\"Invalid query word.\")\n",
    "        return\n",
    "    \n",
    "    d_key = cpmi[keyword]\n",
    "    scores = []\n",
    "    \n",
    "    for token, d in cpmi.items():\n",
    "        scores.append((calc_cossim(d_key, d), token))\n",
    "    \n",
    "    scores.sort(reverse=True)\n",
    "    \n",
    "    nn = [t[1] for t in scores[1:n+1]]\n",
    "    \n",
    "    return nn"
   ]
  },
  {
   "cell_type": "markdown",
   "metadata": {},
   "source": [
    "### 1.1 Distributional Counting"
   ]
  },
  {
   "cell_type": "code",
   "execution_count": 12,
   "metadata": {},
   "outputs": [],
   "source": [
    "corpus = pad_and_tokenize(wiki)"
   ]
  },
  {
   "cell_type": "code",
   "execution_count": 13,
   "metadata": {},
   "outputs": [],
   "source": [
    "c_3, center_3, context_3 = counting(vocab_wordsim, vocab_25k, corpus, 3)"
   ]
  },
  {
   "cell_type": "code",
   "execution_count": 14,
   "metadata": {},
   "outputs": [
    {
     "data": {
      "text/plain": [
       "SpearmanrResult(correlation=0.22814701095809897, pvalue=1.0076496657048044e-36)"
      ]
     },
     "execution_count": 14,
     "metadata": {},
     "output_type": "execute_result"
    }
   ],
   "source": [
    "eval_ws(men, c_3)"
   ]
  },
  {
   "cell_type": "code",
   "execution_count": 15,
   "metadata": {},
   "outputs": [
    {
     "data": {
      "text/plain": [
       "SpearmanrResult(correlation=0.056106496974349045, pvalue=0.07630628171308901)"
      ]
     },
     "execution_count": 15,
     "metadata": {},
     "output_type": "execute_result"
    }
   ],
   "source": [
    "eval_ws(simlex, c_3)"
   ]
  },
  {
   "cell_type": "markdown",
   "metadata": {},
   "source": [
    "### 1.2 Computing PMIs"
   ]
  },
  {
   "cell_type": "code",
   "execution_count": 16,
   "metadata": {},
   "outputs": [],
   "source": [
    "cpmi_3 = calc_pmi(c_3, center_3, context_3)"
   ]
  },
  {
   "cell_type": "code",
   "execution_count": 17,
   "metadata": {},
   "outputs": [
    {
     "data": {
      "text/plain": [
       "SpearmanrResult(correlation=0.5331472836039355, pvalue=5.335378800701052e-220)"
      ]
     },
     "execution_count": 17,
     "metadata": {},
     "output_type": "execute_result"
    }
   ],
   "source": [
    "eval_ws(men, cpmi_3)"
   ]
  },
  {
   "cell_type": "code",
   "execution_count": 18,
   "metadata": {},
   "outputs": [
    {
     "data": {
      "text/plain": [
       "SpearmanrResult(correlation=0.2237608234397637, pvalue=8.400859146196789e-13)"
      ]
     },
     "execution_count": 18,
     "metadata": {},
     "output_type": "execute_result"
    }
   ],
   "source": [
    "eval_ws(simlex, cpmi_3)"
   ]
  },
  {
   "cell_type": "markdown",
   "metadata": {},
   "source": [
    "### 1.3 Experimentation"
   ]
  },
  {
   "cell_type": "code",
   "execution_count": 19,
   "metadata": {},
   "outputs": [],
   "source": [
    "c_1, center_1, context_1 = counting(vocab_wordsim, vocab_25k, corpus, 1)"
   ]
  },
  {
   "cell_type": "code",
   "execution_count": 20,
   "metadata": {},
   "outputs": [],
   "source": [
    "cpmi_1 = calc_pmi(c_1, center_1, context_1)"
   ]
  },
  {
   "cell_type": "code",
   "execution_count": 21,
   "metadata": {},
   "outputs": [
    {
     "data": {
      "text/plain": [
       "SpearmanrResult(correlation=0.2061997405743782, pvalue=3.6355429834129334e-30)"
      ]
     },
     "execution_count": 21,
     "metadata": {},
     "output_type": "execute_result"
    }
   ],
   "source": [
    "eval_ws(men, c_1)"
   ]
  },
  {
   "cell_type": "code",
   "execution_count": 22,
   "metadata": {},
   "outputs": [
    {
     "data": {
      "text/plain": [
       "SpearmanrResult(correlation=0.075084457147452, pvalue=0.017616981223936762)"
      ]
     },
     "execution_count": 22,
     "metadata": {},
     "output_type": "execute_result"
    }
   ],
   "source": [
    "eval_ws(simlex, c_1)"
   ]
  },
  {
   "cell_type": "code",
   "execution_count": 23,
   "metadata": {},
   "outputs": [
    {
     "data": {
      "text/plain": [
       "SpearmanrResult(correlation=0.46398049004307396, pvalue=4.737791891909269e-160)"
      ]
     },
     "execution_count": 23,
     "metadata": {},
     "output_type": "execute_result"
    }
   ],
   "source": [
    "eval_ws(men, cpmi_1)"
   ]
  },
  {
   "cell_type": "code",
   "execution_count": 24,
   "metadata": {},
   "outputs": [
    {
     "data": {
      "text/plain": [
       "SpearmanrResult(correlation=0.2679049972472839, pvalue=6.992752723932315e-18)"
      ]
     },
     "execution_count": 24,
     "metadata": {},
     "output_type": "execute_result"
    }
   ],
   "source": [
    "eval_ws(simlex, cpmi_1)"
   ]
  },
  {
   "cell_type": "code",
   "execution_count": 25,
   "metadata": {},
   "outputs": [],
   "source": [
    "c_6, center_6, context_6 = counting(vocab_wordsim, vocab_25k, corpus, 6)"
   ]
  },
  {
   "cell_type": "code",
   "execution_count": 26,
   "metadata": {},
   "outputs": [],
   "source": [
    "cpmi_6 = calc_pmi(c_6, center_6, context_6)"
   ]
  },
  {
   "cell_type": "code",
   "execution_count": 27,
   "metadata": {},
   "outputs": [
    {
     "data": {
      "text/plain": [
       "SpearmanrResult(correlation=0.23017586636479326, pvalue=2.294068212791827e-37)"
      ]
     },
     "execution_count": 27,
     "metadata": {},
     "output_type": "execute_result"
    }
   ],
   "source": [
    "eval_ws(men, c_6)"
   ]
  },
  {
   "cell_type": "code",
   "execution_count": 28,
   "metadata": {},
   "outputs": [
    {
     "data": {
      "text/plain": [
       "SpearmanrResult(correlation=0.03323812528777947, pvalue=0.2939338586562712)"
      ]
     },
     "execution_count": 28,
     "metadata": {},
     "output_type": "execute_result"
    }
   ],
   "source": [
    "eval_ws(simlex, c_6)"
   ]
  },
  {
   "cell_type": "code",
   "execution_count": 29,
   "metadata": {},
   "outputs": [
    {
     "data": {
      "text/plain": [
       "SpearmanrResult(correlation=0.5266732025165936, pvalue=8.77862271056346e-214)"
      ]
     },
     "execution_count": 29,
     "metadata": {},
     "output_type": "execute_result"
    }
   ],
   "source": [
    "eval_ws(men, cpmi_6)"
   ]
  },
  {
   "cell_type": "code",
   "execution_count": 30,
   "metadata": {},
   "outputs": [
    {
     "data": {
      "text/plain": [
       "SpearmanrResult(correlation=0.17511437335867402, pvalue=2.5327475474192802e-08)"
      ]
     },
     "execution_count": 30,
     "metadata": {},
     "output_type": "execute_result"
    }
   ],
   "source": [
    "eval_ws(simlex, cpmi_6)"
   ]
  },
  {
   "cell_type": "markdown",
   "metadata": {},
   "source": [
    "### 1.4 Analysis"
   ]
  },
  {
   "cell_type": "code",
   "execution_count": 31,
   "metadata": {},
   "outputs": [],
   "source": [
    "c_1_, center_1_, context_1_ = counting(vocab_25k, vocab_25k, corpus, 1)"
   ]
  },
  {
   "cell_type": "code",
   "execution_count": 32,
   "metadata": {},
   "outputs": [],
   "source": [
    "cpmi_1_ = calc_pmi(c_1_, center_1_, context_1_)"
   ]
  },
  {
   "cell_type": "code",
   "execution_count": 33,
   "metadata": {},
   "outputs": [],
   "source": [
    "c_6_, center_6_, context_6_ = counting(vocab_25k, vocab_25k, corpus, 6)"
   ]
  },
  {
   "cell_type": "code",
   "execution_count": 34,
   "metadata": {},
   "outputs": [],
   "source": [
    "cpmi_6_ = calc_pmi(c_6_, center_6_, context_6_)"
   ]
  },
  {
   "cell_type": "markdown",
   "metadata": {},
   "source": [
    "### 1.4.1 Printing nearest neighbors"
   ]
  },
  {
   "cell_type": "code",
   "execution_count": 38,
   "metadata": {},
   "outputs": [
    {
     "name": "stdout",
     "output_type": "stream",
     "text": [
      "['dragon', 'tyrant', 'creatures', 'monsters', 'jar', 'hornet', 'invaders', 'rhinoceros', 'robot', 'gangster']\n"
     ]
    }
   ],
   "source": [
    "monster_1 = get_nearest_neighbors(cpmi_1_, \"monster\", 10)\n",
    "print(monster_1)"
   ]
  },
  {
   "cell_type": "code",
   "execution_count": 39,
   "metadata": {},
   "outputs": [
    {
     "name": "stdout",
     "output_type": "stream",
     "text": [
      "['evil', 'giant', 'creature', 'monsters', 'godzilla', 'dragon', 'dog', 'ghost', 'girl', 'horror']\n"
     ]
    }
   ],
   "source": [
    "monster_6 = get_nearest_neighbors(cpmi_6_, \"monster\", 10)\n",
    "print(monster_6)"
   ]
  },
  {
   "cell_type": "code",
   "execution_count": 36,
   "metadata": {},
   "outputs": [],
   "source": [
    "# with open('cpmi_1.pkl', 'wb') as f1:\n",
    "#     pickle.dump(cpmi_1_, f1)\n",
    "\n",
    "with open('cpmi_6.pkl', 'wb') as f2:\n",
    "    pickle.dump(cpmi_6_, f2)"
   ]
  },
  {
   "cell_type": "code",
   "execution_count": 37,
   "metadata": {},
   "outputs": [],
   "source": [
    "with open('cpmi_1.pkl', 'rb') as f1:\n",
    "     cpmi_1_ = pickle.load(f1)\n",
    "    \n",
    "# with open('cpmi_6.pkl', 'rb') as f2:\n",
    "#     cpmi_6_ = pickle.load(f2)"
   ]
  },
  {
   "cell_type": "markdown",
   "metadata": {},
   "source": [
    "### 1.4.2 POS Tag Similarity"
   ]
  },
  {
   "cell_type": "code",
   "execution_count": 40,
   "metadata": {},
   "outputs": [],
   "source": [
    "# Tag the word on its own since the sequence means nothing here.\n",
    "tokens = []\n",
    "for word in vocab_25k:\n",
    "    tokens += nltk.pos_tag([word])"
   ]
  },
  {
   "cell_type": "code",
   "execution_count": 41,
   "metadata": {},
   "outputs": [],
   "source": [
    "def get_category(token):\n",
    "    tag = token[1]\n",
    "    if tag.startswith('N'):\n",
    "        return 'noun'\n",
    "    elif tag.startswith('V'):\n",
    "        return 'verb'\n",
    "    elif tag.startswith('J'):\n",
    "        return 'adjective'\n",
    "    elif tag.startswith('I'):\n",
    "        return 'preposition'\n",
    "    else:\n",
    "        return 'others'\n",
    "\n",
    "tokens_tagged = [(token[0], get_category(token)) for token in tokens]"
   ]
  },
  {
   "cell_type": "code",
   "execution_count": 42,
   "metadata": {},
   "outputs": [],
   "source": [
    "tokens_tagged_dict = dict(tokens_tagged)\n",
    "tokens_tagged_df = pd.DataFrame(tokens_tagged)"
   ]
  },
  {
   "cell_type": "code",
   "execution_count": 43,
   "metadata": {},
   "outputs": [
    {
     "data": {
      "text/html": [
       "<div>\n",
       "<style scoped>\n",
       "    .dataframe tbody tr th:only-of-type {\n",
       "        vertical-align: middle;\n",
       "    }\n",
       "\n",
       "    .dataframe tbody tr th {\n",
       "        vertical-align: top;\n",
       "    }\n",
       "\n",
       "    .dataframe thead th {\n",
       "        text-align: right;\n",
       "    }\n",
       "</style>\n",
       "<table border=\"1\" class=\"dataframe\">\n",
       "  <thead>\n",
       "    <tr style=\"text-align: right;\">\n",
       "      <th></th>\n",
       "      <th>0</th>\n",
       "    </tr>\n",
       "    <tr>\n",
       "      <th>1</th>\n",
       "      <th></th>\n",
       "    </tr>\n",
       "  </thead>\n",
       "  <tbody>\n",
       "    <tr>\n",
       "      <th>adjective</th>\n",
       "      <td>1606</td>\n",
       "    </tr>\n",
       "    <tr>\n",
       "      <th>noun</th>\n",
       "      <td>18991</td>\n",
       "    </tr>\n",
       "    <tr>\n",
       "      <th>others</th>\n",
       "      <td>1550</td>\n",
       "    </tr>\n",
       "    <tr>\n",
       "      <th>preposition</th>\n",
       "      <td>58</td>\n",
       "    </tr>\n",
       "    <tr>\n",
       "      <th>verb</th>\n",
       "      <td>2795</td>\n",
       "    </tr>\n",
       "  </tbody>\n",
       "</table>\n",
       "</div>"
      ],
      "text/plain": [
       "                 0\n",
       "1                 \n",
       "adjective     1606\n",
       "noun         18991\n",
       "others        1550\n",
       "preposition     58\n",
       "verb          2795"
      ]
     },
     "execution_count": 43,
     "metadata": {},
     "output_type": "execute_result"
    }
   ],
   "source": [
    "tokens_tagged_df.groupby([1]).count()"
   ]
  },
  {
   "cell_type": "code",
   "execution_count": 62,
   "metadata": {},
   "outputs": [],
   "source": [
    "# randomly select 50 words each from nouns, verbs, adjectives, and prepositions\n",
    "query_words = {}\n",
    "for tag in [\"noun\", \"adjective\", \"verb\", \"preposition\"]:\n",
    "    l = random.sample(tokens_tagged_df[tokens_tagged_df[1] == tag][0].tolist(), 50)\n",
    "    query_words[tag] = l"
   ]
  },
  {
   "cell_type": "code",
   "execution_count": 45,
   "metadata": {},
   "outputs": [],
   "source": [
    "def tag_neighbors(s):\n",
    "    return [tokens_tagged_dict[word] for word in s] "
   ]
  },
  {
   "cell_type": "code",
   "execution_count": 56,
   "metadata": {},
   "outputs": [],
   "source": [
    "def neighbor_tag_counter(d, tag, w, c):\n",
    "    for item in [\"noun\", \"adjective\", \"verb\", \"preposition\"]:\n",
    "        prev =  d[tag][w].get(item, 0)\n",
    "        d[tag][w][item] = prev + c[item]\n",
    "    return d"
   ]
  },
  {
   "cell_type": "code",
   "execution_count": 64,
   "metadata": {},
   "outputs": [
    {
     "name": "stdout",
     "output_type": "stream",
     "text": [
      "noun\n",
      "\thardness\n",
      "\t\tw=1: 9/10 nearest neighbors are noun\n",
      "\t\tw=6: 10/10 nearest neighbors are noun\n",
      "\t\tCommon neighbors: 0\n",
      "\tcum\n",
      "\t\tw=1: 8/10 nearest neighbors are noun\n",
      "\t\tw=6: 8/10 nearest neighbors are noun\n",
      "\t\tCommon neighbors: 4\n",
      "\tcinemas\n",
      "\t\tw=1: 10/10 nearest neighbors are noun\n",
      "\t\tw=6: 9/10 nearest neighbors are noun\n",
      "\t\tCommon neighbors: 2\n",
      "\tcounty\n",
      "\t\tw=1: 8/10 nearest neighbors are noun\n",
      "\t\tw=6: 9/10 nearest neighbors are noun\n",
      "\t\tCommon neighbors: 4\n",
      "\trobbie\n",
      "\t\tw=1: 10/10 nearest neighbors are noun\n",
      "\t\tw=6: 9/10 nearest neighbors are noun\n",
      "\t\tCommon neighbors: 0\n",
      "\tjerome\n",
      "\t\tw=1: 10/10 nearest neighbors are noun\n",
      "\t\tw=6: 10/10 nearest neighbors are noun\n",
      "\t\tCommon neighbors: 2\n",
      "\tchose\n",
      "\t\tw=1: 4/10 nearest neighbors are noun\n",
      "\t\tw=6: 3/10 nearest neighbors are noun\n",
      "\t\tCommon neighbors: 4\n",
      "\tresonance\n",
      "\t\tw=1: 9/10 nearest neighbors are noun\n",
      "\t\tw=6: 6/10 nearest neighbors are noun\n",
      "\t\tCommon neighbors: 1\n",
      "\tdrinks\n",
      "\t\tw=1: 10/10 nearest neighbors are noun\n",
      "\t\tw=6: 8/10 nearest neighbors are noun\n",
      "\t\tCommon neighbors: 3\n",
      "\tkia\n",
      "\t\tw=1: 8/10 nearest neighbors are noun\n",
      "\t\tw=6: 9/10 nearest neighbors are noun\n",
      "\t\tCommon neighbors: 1\n",
      "\tángel\n",
      "\t\tw=1: 10/10 nearest neighbors are noun\n",
      "\t\tw=6: 10/10 nearest neighbors are noun\n",
      "\t\tCommon neighbors: 4\n",
      "\tnoah\n",
      "\t\tw=1: 9/10 nearest neighbors are noun\n",
      "\t\tw=6: 10/10 nearest neighbors are noun\n",
      "\t\tCommon neighbors: 0\n",
      "\tkan\n",
      "\t\tw=1: 10/10 nearest neighbors are noun\n",
      "\t\tw=6: 9/10 nearest neighbors are noun\n",
      "\t\tCommon neighbors: 0\n",
      "\tkumar\n",
      "\t\tw=1: 10/10 nearest neighbors are noun\n",
      "\t\tw=6: 10/10 nearest neighbors are noun\n",
      "\t\tCommon neighbors: 5\n",
      "\tproducer\n",
      "\t\tw=1: 9/10 nearest neighbors are noun\n",
      "\t\tw=6: 8/10 nearest neighbors are noun\n",
      "\t\tCommon neighbors: 4\n",
      "\tmariners\n",
      "\t\tw=1: 10/10 nearest neighbors are noun\n",
      "\t\tw=6: 10/10 nearest neighbors are noun\n",
      "\t\tCommon neighbors: 2\n",
      "\tbree\n",
      "\t\tw=1: 9/10 nearest neighbors are noun\n",
      "\t\tw=6: 10/10 nearest neighbors are noun\n",
      "\t\tCommon neighbors: 0\n",
      "\tmid-1970s\n",
      "\t\tw=1: 6/10 nearest neighbors are noun\n",
      "\t\tw=6: 10/10 nearest neighbors are noun\n",
      "\t\tCommon neighbors: 1\n",
      "\tmurderer\n",
      "\t\tw=1: 9/10 nearest neighbors are noun\n",
      "\t\tw=6: 8/10 nearest neighbors are noun\n",
      "\t\tCommon neighbors: 1\n",
      "\tgeoff\n",
      "\t\tw=1: 10/10 nearest neighbors are noun\n",
      "\t\tw=6: 10/10 nearest neighbors are noun\n",
      "\t\tCommon neighbors: 0\n",
      "\tdevelopmental\n",
      "\t\tw=1: 3/10 nearest neighbors are noun\n",
      "\t\tw=6: 4/10 nearest neighbors are noun\n",
      "\t\tCommon neighbors: 3\n",
      "\tgrasslands\n",
      "\t\tw=1: 10/10 nearest neighbors are noun\n",
      "\t\tw=6: 10/10 nearest neighbors are noun\n",
      "\t\tCommon neighbors: 3\n",
      "\tscreenings\n",
      "\t\tw=1: 9/10 nearest neighbors are noun\n",
      "\t\tw=6: 10/10 nearest neighbors are noun\n",
      "\t\tCommon neighbors: 0\n",
      "\teastbound\n",
      "\t\tw=1: 6/10 nearest neighbors are noun\n",
      "\t\tw=6: 10/10 nearest neighbors are noun\n",
      "\t\tCommon neighbors: 3\n",
      "\tshaman\n",
      "\t\tw=1: 9/10 nearest neighbors are noun\n",
      "\t\tw=6: 7/10 nearest neighbors are noun\n",
      "\t\tCommon neighbors: 0\n",
      "\tstockton\n",
      "\t\tw=1: 10/10 nearest neighbors are noun\n",
      "\t\tw=6: 10/10 nearest neighbors are noun\n",
      "\t\tCommon neighbors: 0\n",
      "\teurope\n",
      "\t\tw=1: 10/10 nearest neighbors are noun\n",
      "\t\tw=6: 7/10 nearest neighbors are noun\n",
      "\t\tCommon neighbors: 4\n",
      "\tanimosity\n",
      "\t\tw=1: 9/10 nearest neighbors are noun\n",
      "\t\tw=6: 8/10 nearest neighbors are noun\n",
      "\t\tCommon neighbors: 1\n",
      "\twayne\n",
      "\t\tw=1: 10/10 nearest neighbors are noun\n",
      "\t\tw=6: 10/10 nearest neighbors are noun\n",
      "\t\tCommon neighbors: 2\n",
      "\tmound\n",
      "\t\tw=1: 9/10 nearest neighbors are noun\n",
      "\t\tw=6: 8/10 nearest neighbors are noun\n",
      "\t\tCommon neighbors: 2\n",
      "\tspends\n",
      "\t\tw=1: 9/10 nearest neighbors are noun\n",
      "\t\tw=6: 9/10 nearest neighbors are noun\n",
      "\t\tCommon neighbors: 3\n",
      "\toratory\n",
      "\t\tw=1: 9/10 nearest neighbors are noun\n",
      "\t\tw=6: 8/10 nearest neighbors are noun\n",
      "\t\tCommon neighbors: 1\n",
      "\tindoors\n",
      "\t\tw=1: 9/10 nearest neighbors are noun\n",
      "\t\tw=6: 8/10 nearest neighbors are noun\n",
      "\t\tCommon neighbors: 1\n",
      "\trajput\n",
      "\t\tw=1: 10/10 nearest neighbors are noun\n",
      "\t\tw=6: 10/10 nearest neighbors are noun\n",
      "\t\tCommon neighbors: 1\n",
      "\ttechnique\n",
      "\t\tw=1: 10/10 nearest neighbors are noun\n",
      "\t\tw=6: 9/10 nearest neighbors are noun\n",
      "\t\tCommon neighbors: 3\n",
      "\tcass\n",
      "\t\tw=1: 9/10 nearest neighbors are noun\n",
      "\t\tw=6: 10/10 nearest neighbors are noun\n",
      "\t\tCommon neighbors: 1\n",
      "\t'í\n",
      "\t\tw=1: 10/10 nearest neighbors are noun\n",
      "\t\tw=6: 9/10 nearest neighbors are noun\n",
      "\t\tCommon neighbors: 0\n",
      "\tdetection\n",
      "\t\tw=1: 9/10 nearest neighbors are noun\n",
      "\t\tw=6: 8/10 nearest neighbors are noun\n",
      "\t\tCommon neighbors: 1\n",
      "\twont\n",
      "\t\tw=1: 8/10 nearest neighbors are noun\n",
      "\t\tw=6: 3/10 nearest neighbors are noun\n",
      "\t\tCommon neighbors: 0\n",
      "\tprevalence\n",
      "\t\tw=1: 10/10 nearest neighbors are noun\n",
      "\t\tw=6: 10/10 nearest neighbors are noun\n",
      "\t\tCommon neighbors: 2\n",
      "\tallegory\n",
      "\t\tw=1: 9/10 nearest neighbors are noun\n",
      "\t\tw=6: 9/10 nearest neighbors are noun\n",
      "\t\tCommon neighbors: 0\n",
      "\touter\n",
      "\t\tw=1: 6/10 nearest neighbors are noun\n",
      "\t\tw=6: 9/10 nearest neighbors are noun\n",
      "\t\tCommon neighbors: 4\n",
      "\tconsequence\n",
      "\t\tw=1: 10/10 nearest neighbors are noun\n",
      "\t\tw=6: 9/10 nearest neighbors are noun\n",
      "\t\tCommon neighbors: 0\n",
      "\tinmate\n",
      "\t\tw=1: 10/10 nearest neighbors are noun\n",
      "\t\tw=6: 8/10 nearest neighbors are noun\n",
      "\t\tCommon neighbors: 2\n",
      "\theadlights\n",
      "\t\tw=1: 8/10 nearest neighbors are noun\n",
      "\t\tw=6: 8/10 nearest neighbors are noun\n",
      "\t\tCommon neighbors: 0\n",
      "\tprepares\n",
      "\t\tw=1: 10/10 nearest neighbors are noun\n",
      "\t\tw=6: 10/10 nearest neighbors are noun\n",
      "\t\tCommon neighbors: 0\n",
      "\tmetro\n",
      "\t\tw=1: 9/10 nearest neighbors are noun\n",
      "\t\tw=6: 10/10 nearest neighbors are noun\n",
      "\t\tCommon neighbors: 6\n",
      "\ttabernacle\n",
      "\t\tw=1: 8/10 nearest neighbors are noun\n",
      "\t\tw=6: 9/10 nearest neighbors are noun\n",
      "\t\tCommon neighbors: 0\n",
      "\tmutiny\n",
      "\t\tw=1: 9/10 nearest neighbors are noun\n",
      "\t\tw=6: 7/10 nearest neighbors are noun\n",
      "\t\tCommon neighbors: 0\n",
      "\tlunar\n",
      "\t\tw=1: 9/10 nearest neighbors are noun\n",
      "\t\tw=6: 9/10 nearest neighbors are noun\n",
      "\t\tCommon neighbors: 3\n",
      "adjective\n",
      "\tsupplementary\n",
      "\t\tw=1: 0/10 nearest neighbors are adjective\n",
      "\t\tw=6: 3/10 nearest neighbors are adjective\n",
      "\t\tCommon neighbors: 0\n",
      "\tfirst-year\n",
      "\t\tw=1: 1/10 nearest neighbors are adjective\n",
      "\t\tw=6: 0/10 nearest neighbors are adjective\n",
      "\t\tCommon neighbors: 0\n",
      "\ttendentious\n",
      "\t\tw=1: 4/10 nearest neighbors are adjective\n",
      "\t\tw=6: 1/10 nearest neighbors are adjective\n",
      "\t\tCommon neighbors: 2\n",
      "\tintermediary\n",
      "\t\tw=1: 0/10 nearest neighbors are adjective\n",
      "\t\tw=6: 0/10 nearest neighbors are adjective\n",
      "\t\tCommon neighbors: 0\n",
      "\tupscale\n",
      "\t\tw=1: 2/10 nearest neighbors are adjective\n",
      "\t\tw=6: 1/10 nearest neighbors are adjective\n",
      "\t\tCommon neighbors: 0\n",
      "\thighest\n",
      "\t\tw=1: 8/10 nearest neighbors are adjective\n",
      "\t\tw=6: 4/10 nearest neighbors are adjective\n",
      "\t\tCommon neighbors: 5\n",
      "\thellenistic\n",
      "\t\tw=1: 1/10 nearest neighbors are adjective\n",
      "\t\tw=6: 1/10 nearest neighbors are adjective\n",
      "\t\tCommon neighbors: 1\n",
      "\tweekly\n",
      "\t\tw=1: 1/10 nearest neighbors are adjective\n",
      "\t\tw=6: 1/10 nearest neighbors are adjective\n",
      "\t\tCommon neighbors: 5\n",
      "\ttextual\n",
      "\t\tw=1: 3/10 nearest neighbors are adjective\n",
      "\t\tw=6: 4/10 nearest neighbors are adjective\n",
      "\t\tCommon neighbors: 1\n",
      "\textraterrestrial\n",
      "\t\tw=1: 3/10 nearest neighbors are adjective\n",
      "\t\tw=6: 2/10 nearest neighbors are adjective\n",
      "\t\tCommon neighbors: 1\n",
      "\tautomotive\n",
      "\t\tw=1: 2/10 nearest neighbors are adjective\n",
      "\t\tw=6: 0/10 nearest neighbors are adjective\n",
      "\t\tCommon neighbors: 3\n",
      "\tunhappy\n",
      "\t\tw=1: 3/10 nearest neighbors are adjective\n",
      "\t\tw=6: 3/10 nearest neighbors are adjective\n",
      "\t\tCommon neighbors: 0\n",
      "\twarmian-masurian\n",
      "\t\tw=1: 3/10 nearest neighbors are adjective\n",
      "\t\tw=6: 4/10 nearest neighbors are adjective\n",
      "\t\tCommon neighbors: 5\n",
      "\tworst\n",
      "\t\tw=1: 5/10 nearest neighbors are adjective\n",
      "\t\tw=6: 3/10 nearest neighbors are adjective\n",
      "\t\tCommon neighbors: 2\n",
      "\ttough\n",
      "\t\tw=1: 5/10 nearest neighbors are adjective\n",
      "\t\tw=6: 2/10 nearest neighbors are adjective\n",
      "\t\tCommon neighbors: 0\n",
      "\tunarmed\n",
      "\t\tw=1: 0/10 nearest neighbors are adjective\n",
      "\t\tw=6: 0/10 nearest neighbors are adjective\n",
      "\t\tCommon neighbors: 1\n",
      "\tmonastic\n",
      "\t\tw=1: 4/10 nearest neighbors are adjective\n",
      "\t\tw=6: 0/10 nearest neighbors are adjective\n",
      "\t\tCommon neighbors: 3\n",
      "\tconstitutional\n",
      "\t\tw=1: 5/10 nearest neighbors are adjective\n",
      "\t\tw=6: 3/10 nearest neighbors are adjective\n",
      "\t\tCommon neighbors: 3\n",
      "\tcal\n",
      "\t\tw=1: 0/10 nearest neighbors are adjective\n",
      "\t\tw=6: 1/10 nearest neighbors are adjective\n",
      "\t\tCommon neighbors: 2\n",
      "\tbest\n",
      "\t\tw=1: 6/10 nearest neighbors are adjective\n",
      "\t\tw=6: 1/10 nearest neighbors are adjective\n",
      "\t\tCommon neighbors: 2\n",
      "\tvatican\n",
      "\t\tw=1: 3/10 nearest neighbors are adjective\n",
      "\t\tw=6: 0/10 nearest neighbors are adjective\n",
      "\t\tCommon neighbors: 1\n",
      "\tplenary\n",
      "\t\tw=1: 0/10 nearest neighbors are adjective\n",
      "\t\tw=6: 2/10 nearest neighbors are adjective\n",
      "\t\tCommon neighbors: 0\n",
      "\tnominal\n",
      "\t\tw=1: 1/10 nearest neighbors are adjective\n",
      "\t\tw=6: 1/10 nearest neighbors are adjective\n",
      "\t\tCommon neighbors: 0\n"
     ]
    },
    {
     "name": "stdout",
     "output_type": "stream",
     "text": [
      "\tarable\n",
      "\t\tw=1: 1/10 nearest neighbors are adjective\n",
      "\t\tw=6: 0/10 nearest neighbors are adjective\n",
      "\t\tCommon neighbors: 0\n",
      "\tunorganized\n",
      "\t\tw=1: 3/10 nearest neighbors are adjective\n",
      "\t\tw=6: 0/10 nearest neighbors are adjective\n",
      "\t\tCommon neighbors: 0\n",
      "\tidentical\n",
      "\t\tw=1: 5/10 nearest neighbors are adjective\n",
      "\t\tw=6: 2/10 nearest neighbors are adjective\n",
      "\t\tCommon neighbors: 1\n",
      "\tallied\n",
      "\t\tw=1: 6/10 nearest neighbors are adjective\n",
      "\t\tw=6: 0/10 nearest neighbors are adjective\n",
      "\t\tCommon neighbors: 2\n",
      "\ttwenty-first\n",
      "\t\tw=1: 1/10 nearest neighbors are adjective\n",
      "\t\tw=6: 0/10 nearest neighbors are adjective\n",
      "\t\tCommon neighbors: 6\n",
      "\tafrican-american\n",
      "\t\tw=1: 5/10 nearest neighbors are adjective\n",
      "\t\tw=6: 1/10 nearest neighbors are adjective\n",
      "\t\tCommon neighbors: 2\n",
      "\tlower\n",
      "\t\tw=1: 7/10 nearest neighbors are adjective\n",
      "\t\tw=6: 5/10 nearest neighbors are adjective\n",
      "\t\tCommon neighbors: 4\n",
      "\tgreat\n",
      "\t\tw=1: 9/10 nearest neighbors are adjective\n",
      "\t\tw=6: 2/10 nearest neighbors are adjective\n",
      "\t\tCommon neighbors: 2\n",
      "\tmaltese\n",
      "\t\tw=1: 5/10 nearest neighbors are adjective\n",
      "\t\tw=6: 2/10 nearest neighbors are adjective\n",
      "\t\tCommon neighbors: 1\n",
      "\tcostly\n",
      "\t\tw=1: 5/10 nearest neighbors are adjective\n",
      "\t\tw=6: 2/10 nearest neighbors are adjective\n",
      "\t\tCommon neighbors: 2\n",
      "\tquestionable\n",
      "\t\tw=1: 7/10 nearest neighbors are adjective\n",
      "\t\tw=6: 3/10 nearest neighbors are adjective\n",
      "\t\tCommon neighbors: 1\n",
      "\tfree\n",
      "\t\tw=1: 0/10 nearest neighbors are adjective\n",
      "\t\tw=6: 2/10 nearest neighbors are adjective\n",
      "\t\tCommon neighbors: 1\n",
      "\tobjectionable\n",
      "\t\tw=1: 4/10 nearest neighbors are adjective\n",
      "\t\tw=6: 1/10 nearest neighbors are adjective\n",
      "\t\tCommon neighbors: 1\n",
      "\tunblocked\n",
      "\t\tw=1: 0/10 nearest neighbors are adjective\n",
      "\t\tw=6: 1/10 nearest neighbors are adjective\n",
      "\t\tCommon neighbors: 1\n",
      "\table\n",
      "\t\tw=1: 4/10 nearest neighbors are adjective\n",
      "\t\tw=6: 0/10 nearest neighbors are adjective\n",
      "\t\tCommon neighbors: 0\n",
      "\tspanish-american\n",
      "\t\tw=1: 2/10 nearest neighbors are adjective\n",
      "\t\tw=6: 2/10 nearest neighbors are adjective\n",
      "\t\tCommon neighbors: 1\n",
      "\tunreferenced\n",
      "\t\tw=1: 6/10 nearest neighbors are adjective\n",
      "\t\tw=6: 5/10 nearest neighbors are adjective\n",
      "\t\tCommon neighbors: 5\n",
      "\texclusive\n",
      "\t\tw=1: 2/10 nearest neighbors are adjective\n",
      "\t\tw=6: 1/10 nearest neighbors are adjective\n",
      "\t\tCommon neighbors: 1\n",
      "\tconical\n",
      "\t\tw=1: 1/10 nearest neighbors are adjective\n",
      "\t\tw=6: 1/10 nearest neighbors are adjective\n",
      "\t\tCommon neighbors: 0\n",
      "\tconsolidated\n",
      "\t\tw=1: 0/10 nearest neighbors are adjective\n",
      "\t\tw=6: 0/10 nearest neighbors are adjective\n",
      "\t\tCommon neighbors: 0\n",
      "\tunconscious\n",
      "\t\tw=1: 1/10 nearest neighbors are adjective\n",
      "\t\tw=6: 1/10 nearest neighbors are adjective\n",
      "\t\tCommon neighbors: 1\n",
      "\tsyrian\n",
      "\t\tw=1: 8/10 nearest neighbors are adjective\n",
      "\t\tw=6: 2/10 nearest neighbors are adjective\n",
      "\t\tCommon neighbors: 2\n",
      "\ttelevision-related\n",
      "\t\tw=1: 10/10 nearest neighbors are adjective\n",
      "\t\tw=6: 10/10 nearest neighbors are adjective\n",
      "\t\tCommon neighbors: 7\n",
      "\tfloppy\n",
      "\t\tw=1: 2/10 nearest neighbors are adjective\n",
      "\t\tw=6: 2/10 nearest neighbors are adjective\n",
      "\t\tCommon neighbors: 1\n",
      "\tintrinsic\n",
      "\t\tw=1: 3/10 nearest neighbors are adjective\n",
      "\t\tw=6: 3/10 nearest neighbors are adjective\n",
      "\t\tCommon neighbors: 0\n",
      "\t40th\n",
      "\t\tw=1: 1/10 nearest neighbors are adjective\n",
      "\t\tw=6: 1/10 nearest neighbors are adjective\n",
      "\t\tCommon neighbors: 4\n",
      "\tsoutheastern\n",
      "\t\tw=1: 7/10 nearest neighbors are adjective\n",
      "\t\tw=6: 6/10 nearest neighbors are adjective\n",
      "\t\tCommon neighbors: 8\n",
      "verb\n",
      "\tfocussed\n",
      "\t\tw=1: 6/10 nearest neighbors are verb\n",
      "\t\tw=6: 1/10 nearest neighbors are verb\n",
      "\t\tCommon neighbors: 0\n",
      "\tmodifying\n",
      "\t\tw=1: 7/10 nearest neighbors are verb\n",
      "\t\tw=6: 1/10 nearest neighbors are verb\n",
      "\t\tCommon neighbors: 0\n",
      "\tsubmitted\n",
      "\t\tw=1: 8/10 nearest neighbors are verb\n",
      "\t\tw=6: 4/10 nearest neighbors are verb\n",
      "\t\tCommon neighbors: 1\n",
      "\tenabling\n",
      "\t\tw=1: 6/10 nearest neighbors are verb\n",
      "\t\tw=6: 2/10 nearest neighbors are verb\n",
      "\t\tCommon neighbors: 3\n",
      "\tnaturalized\n",
      "\t\tw=1: 1/10 nearest neighbors are verb\n",
      "\t\tw=6: 2/10 nearest neighbors are verb\n",
      "\t\tCommon neighbors: 1\n",
      "\tmerged\n",
      "\t\tw=1: 8/10 nearest neighbors are verb\n",
      "\t\tw=6: 7/10 nearest neighbors are verb\n",
      "\t\tCommon neighbors: 1\n",
      "\tranking\n",
      "\t\tw=1: 0/10 nearest neighbors are verb\n",
      "\t\tw=6: 0/10 nearest neighbors are verb\n",
      "\t\tCommon neighbors: 4\n",
      "\tmerging\n",
      "\t\tw=1: 10/10 nearest neighbors are verb\n",
      "\t\tw=6: 5/10 nearest neighbors are verb\n",
      "\t\tCommon neighbors: 3\n",
      "\tenvisioned\n",
      "\t\tw=1: 4/10 nearest neighbors are verb\n",
      "\t\tw=6: 1/10 nearest neighbors are verb\n",
      "\t\tCommon neighbors: 0\n",
      "\tcorrecting\n",
      "\t\tw=1: 4/10 nearest neighbors are verb\n",
      "\t\tw=6: 3/10 nearest neighbors are verb\n",
      "\t\tCommon neighbors: 1\n",
      "\treaffirmed\n",
      "\t\tw=1: 7/10 nearest neighbors are verb\n",
      "\t\tw=6: 3/10 nearest neighbors are verb\n",
      "\t\tCommon neighbors: 0\n",
      "\tcaptured\n",
      "\t\tw=1: 7/10 nearest neighbors are verb\n",
      "\t\tw=6: 2/10 nearest neighbors are verb\n",
      "\t\tCommon neighbors: 1\n",
      "\tcooperated\n",
      "\t\tw=1: 4/10 nearest neighbors are verb\n",
      "\t\tw=6: 1/10 nearest neighbors are verb\n",
      "\t\tCommon neighbors: 0\n",
      "\tforbidding\n",
      "\t\tw=1: 7/10 nearest neighbors are verb\n",
      "\t\tw=6: 4/10 nearest neighbors are verb\n",
      "\t\tCommon neighbors: 2\n",
      "\tembraced\n",
      "\t\tw=1: 7/10 nearest neighbors are verb\n",
      "\t\tw=6: 0/10 nearest neighbors are verb\n",
      "\t\tCommon neighbors: 0\n",
      "\tembroiled\n",
      "\t\tw=1: 7/10 nearest neighbors are verb\n",
      "\t\tw=6: 4/10 nearest neighbors are verb\n",
      "\t\tCommon neighbors: 0\n",
      "\tsuppressing\n",
      "\t\tw=1: 3/10 nearest neighbors are verb\n",
      "\t\tw=6: 2/10 nearest neighbors are verb\n",
      "\t\tCommon neighbors: 0\n",
      "\tcampaigned\n",
      "\t\tw=1: 6/10 nearest neighbors are verb\n",
      "\t\tw=6: 0/10 nearest neighbors are verb\n",
      "\t\tCommon neighbors: 0\n",
      "\ttrapped\n",
      "\t\tw=1: 6/10 nearest neighbors are verb\n",
      "\t\tw=6: 2/10 nearest neighbors are verb\n",
      "\t\tCommon neighbors: 0\n",
      "\tsignaling\n",
      "\t\tw=1: 1/10 nearest neighbors are verb\n",
      "\t\tw=6: 0/10 nearest neighbors are verb\n",
      "\t\tCommon neighbors: 2\n",
      "\tanchored\n",
      "\t\tw=1: 8/10 nearest neighbors are verb\n",
      "\t\tw=6: 2/10 nearest neighbors are verb\n",
      "\t\tCommon neighbors: 1\n",
      "\twounding\n",
      "\t\tw=1: 4/10 nearest neighbors are verb\n",
      "\t\tw=6: 5/10 nearest neighbors are verb\n",
      "\t\tCommon neighbors: 2\n",
      "\tcertified\n",
      "\t\tw=1: 6/10 nearest neighbors are verb\n",
      "\t\tw=6: 1/10 nearest neighbors are verb\n",
      "\t\tCommon neighbors: 3\n",
      "\tcontained\n",
      "\t\tw=1: 6/10 nearest neighbors are verb\n",
      "\t\tw=6: 2/10 nearest neighbors are verb\n",
      "\t\tCommon neighbors: 4\n",
      "\tpiping\n",
      "\t\tw=1: 3/10 nearest neighbors are verb\n",
      "\t\tw=6: 2/10 nearest neighbors are verb\n",
      "\t\tCommon neighbors: 0\n",
      "\tswallowed\n",
      "\t\tw=1: 6/10 nearest neighbors are verb\n",
      "\t\tw=6: 2/10 nearest neighbors are verb\n",
      "\t\tCommon neighbors: 0\n",
      "\tcoloured\n",
      "\t\tw=1: 3/10 nearest neighbors are verb\n",
      "\t\tw=6: 1/10 nearest neighbors are verb\n",
      "\t\tCommon neighbors: 4\n",
      "\tdismissing\n",
      "\t\tw=1: 3/10 nearest neighbors are verb\n",
      "\t\tw=6: 4/10 nearest neighbors are verb\n",
      "\t\tCommon neighbors: 1\n",
      "\temphasised\n",
      "\t\tw=1: 7/10 nearest neighbors are verb\n",
      "\t\tw=6: 0/10 nearest neighbors are verb\n",
      "\t\tCommon neighbors: 0\n",
      "\tfloating\n",
      "\t\tw=1: 2/10 nearest neighbors are verb\n",
      "\t\tw=6: 2/10 nearest neighbors are verb\n",
      "\t\tCommon neighbors: 0\n",
      "\tare\n",
      "\t\tw=1: 5/10 nearest neighbors are verb\n",
      "\t\tw=6: 2/10 nearest neighbors are verb\n",
      "\t\tCommon neighbors: 5\n",
      "\textinguished\n",
      "\t\tw=1: 9/10 nearest neighbors are verb\n",
      "\t\tw=6: 1/10 nearest neighbors are verb\n",
      "\t\tCommon neighbors: 0\n",
      "\tconsidered\n",
      "\t\tw=1: 4/10 nearest neighbors are verb\n",
      "\t\tw=6: 0/10 nearest neighbors are verb\n",
      "\t\tCommon neighbors: 1\n",
      "\torphaned\n",
      "\t\tw=1: 4/10 nearest neighbors are verb\n",
      "\t\tw=6: 1/10 nearest neighbors are verb\n",
      "\t\tCommon neighbors: 3\n",
      "\tcollaborating\n",
      "\t\tw=1: 8/10 nearest neighbors are verb\n",
      "\t\tw=6: 1/10 nearest neighbors are verb\n",
      "\t\tCommon neighbors: 0\n",
      "\topposing\n",
      "\t\tw=1: 4/10 nearest neighbors are verb\n",
      "\t\tw=6: 1/10 nearest neighbors are verb\n",
      "\t\tCommon neighbors: 1\n",
      "\tinspected\n",
      "\t\tw=1: 7/10 nearest neighbors are verb\n",
      "\t\tw=6: 1/10 nearest neighbors are verb\n",
      "\t\tCommon neighbors: 0\n",
      "\tseparated\n",
      "\t\tw=1: 9/10 nearest neighbors are verb\n",
      "\t\tw=6: 2/10 nearest neighbors are verb\n",
      "\t\tCommon neighbors: 1\n",
      "\tdenoted\n",
      "\t\tw=1: 8/10 nearest neighbors are verb\n",
      "\t\tw=6: 0/10 nearest neighbors are verb\n",
      "\t\tCommon neighbors: 0\n",
      "\tcremated\n",
      "\t\tw=1: 7/10 nearest neighbors are verb\n",
      "\t\tw=6: 3/10 nearest neighbors are verb\n",
      "\t\tCommon neighbors: 1\n",
      "\tdemonstrating\n",
      "\t\tw=1: 3/10 nearest neighbors are verb\n",
      "\t\tw=6: 1/10 nearest neighbors are verb\n",
      "\t\tCommon neighbors: 1\n",
      "\tarriving\n",
      "\t\tw=1: 7/10 nearest neighbors are verb\n",
      "\t\tw=6: 3/10 nearest neighbors are verb\n",
      "\t\tCommon neighbors: 2\n",
      "\tharmed\n",
      "\t\tw=1: 6/10 nearest neighbors are verb\n",
      "\t\tw=6: 2/10 nearest neighbors are verb\n",
      "\t\tCommon neighbors: 0\n",
      "\tembarked\n",
      "\t\tw=1: 8/10 nearest neighbors are verb\n",
      "\t\tw=6: 2/10 nearest neighbors are verb\n",
      "\t\tCommon neighbors: 1\n",
      "\tissued\n",
      "\t\tw=1: 9/10 nearest neighbors are verb\n",
      "\t\tw=6: 2/10 nearest neighbors are verb\n",
      "\t\tCommon neighbors: 1\n"
     ]
    },
    {
     "name": "stdout",
     "output_type": "stream",
     "text": [
      "\teating\n",
      "\t\tw=1: 6/10 nearest neighbors are verb\n",
      "\t\tw=6: 1/10 nearest neighbors are verb\n",
      "\t\tCommon neighbors: 2\n",
      "\toutgoing\n",
      "\t\tw=1: 1/10 nearest neighbors are verb\n",
      "\t\tw=6: 3/10 nearest neighbors are verb\n",
      "\t\tCommon neighbors: 1\n",
      "\tkicking\n",
      "\t\tw=1: 5/10 nearest neighbors are verb\n",
      "\t\tw=6: 2/10 nearest neighbors are verb\n",
      "\t\tCommon neighbors: 1\n",
      "\tobsessed\n",
      "\t\tw=1: 6/10 nearest neighbors are verb\n",
      "\t\tw=6: 2/10 nearest neighbors are verb\n",
      "\t\tCommon neighbors: 0\n",
      "\tencoded\n",
      "\t\tw=1: 5/10 nearest neighbors are verb\n",
      "\t\tw=6: 1/10 nearest neighbors are verb\n",
      "\t\tCommon neighbors: 0\n",
      "preposition\n",
      "\ton\n",
      "\t\tw=1: 8/10 nearest neighbors are preposition\n",
      "\t\tw=6: 3/10 nearest neighbors are preposition\n",
      "\t\tCommon neighbors: 4\n",
      "\tby\n",
      "\t\tw=1: 2/10 nearest neighbors are preposition\n",
      "\t\tw=6: 0/10 nearest neighbors are preposition\n",
      "\t\tCommon neighbors: 3\n",
      "\tinto\n",
      "\t\tw=1: 3/10 nearest neighbors are preposition\n",
      "\t\tw=6: 4/10 nearest neighbors are preposition\n",
      "\t\tCommon neighbors: 5\n",
      "\twith\n",
      "\t\tw=1: 3/10 nearest neighbors are preposition\n",
      "\t\tw=6: 2/10 nearest neighbors are preposition\n",
      "\t\tCommon neighbors: 1\n",
      "\tbehind\n",
      "\t\tw=1: 4/10 nearest neighbors are preposition\n",
      "\t\tw=6: 2/10 nearest neighbors are preposition\n",
      "\t\tCommon neighbors: 5\n",
      "\tin\n",
      "\t\tw=1: 2/10 nearest neighbors are preposition\n",
      "\t\tw=6: 3/10 nearest neighbors are preposition\n",
      "\t\tCommon neighbors: 2\n",
      "\twithin\n",
      "\t\tw=1: 5/10 nearest neighbors are preposition\n",
      "\t\tw=6: 2/10 nearest neighbors are preposition\n",
      "\t\tCommon neighbors: 3\n",
      "\tupon\n",
      "\t\tw=1: 8/10 nearest neighbors are preposition\n",
      "\t\tw=6: 1/10 nearest neighbors are preposition\n",
      "\t\tCommon neighbors: 2\n",
      "\tthroughout\n",
      "\t\tw=1: 5/10 nearest neighbors are preposition\n",
      "\t\tw=6: 3/10 nearest neighbors are preposition\n",
      "\t\tCommon neighbors: 5\n",
      "\tbelow\n",
      "\t\tw=1: 3/10 nearest neighbors are preposition\n",
      "\t\tw=6: 1/10 nearest neighbors are preposition\n",
      "\t\tCommon neighbors: 1\n",
      "\twhile\n",
      "\t\tw=1: 4/10 nearest neighbors are preposition\n",
      "\t\tw=6: 2/10 nearest neighbors are preposition\n",
      "\t\tCommon neighbors: 2\n",
      "\tbetween\n",
      "\t\tw=1: 3/10 nearest neighbors are preposition\n",
      "\t\tw=6: 4/10 nearest neighbors are preposition\n",
      "\t\tCommon neighbors: 2\n",
      "\tbesides\n",
      "\t\tw=1: 1/10 nearest neighbors are preposition\n",
      "\t\tw=6: 0/10 nearest neighbors are preposition\n",
      "\t\tCommon neighbors: 0\n",
      "\tabove\n",
      "\t\tw=1: 3/10 nearest neighbors are preposition\n",
      "\t\tw=6: 0/10 nearest neighbors are preposition\n",
      "\t\tCommon neighbors: 1\n",
      "\tvia\n",
      "\t\tw=1: 5/10 nearest neighbors are preposition\n",
      "\t\tw=6: 2/10 nearest neighbors are preposition\n",
      "\t\tCommon neighbors: 4\n",
      "\tonto\n",
      "\t\tw=1: 5/10 nearest neighbors are preposition\n",
      "\t\tw=6: 4/10 nearest neighbors are preposition\n",
      "\t\tCommon neighbors: 3\n",
      "\tunless\n",
      "\t\tw=1: 3/10 nearest neighbors are preposition\n",
      "\t\tw=6: 1/10 nearest neighbors are preposition\n",
      "\t\tCommon neighbors: 2\n",
      "\tduring\n",
      "\t\tw=1: 6/10 nearest neighbors are preposition\n",
      "\t\tw=6: 3/10 nearest neighbors are preposition\n",
      "\t\tCommon neighbors: 3\n",
      "\toverthrown\n",
      "\t\tw=1: 0/10 nearest neighbors are preposition\n",
      "\t\tw=6: 0/10 nearest neighbors are preposition\n",
      "\t\tCommon neighbors: 0\n",
      "\tfrom\n",
      "\t\tw=1: 5/10 nearest neighbors are preposition\n",
      "\t\tw=6: 4/10 nearest neighbors are preposition\n",
      "\t\tCommon neighbors: 3\n",
      "\tamong\n",
      "\t\tw=1: 3/10 nearest neighbors are preposition\n",
      "\t\tw=6: 0/10 nearest neighbors are preposition\n",
      "\t\tCommon neighbors: 2\n",
      "\tif\n",
      "\t\tw=1: 1/10 nearest neighbors are preposition\n",
      "\t\tw=6: 0/10 nearest neighbors are preposition\n",
      "\t\tCommon neighbors: 4\n",
      "\tabout\n",
      "\t\tw=1: 3/10 nearest neighbors are preposition\n",
      "\t\tw=6: 2/10 nearest neighbors are preposition\n",
      "\t\tCommon neighbors: 3\n",
      "\tlike\n",
      "\t\tw=1: 0/10 nearest neighbors are preposition\n",
      "\t\tw=6: 1/10 nearest neighbors are preposition\n",
      "\t\tCommon neighbors: 1\n",
      "\texcept\n",
      "\t\tw=1: 0/10 nearest neighbors are preposition\n",
      "\t\tw=6: 2/10 nearest neighbors are preposition\n",
      "\t\tCommon neighbors: 0\n",
      "\tafter\n",
      "\t\tw=1: 6/10 nearest neighbors are preposition\n",
      "\t\tw=6: 3/10 nearest neighbors are preposition\n",
      "\t\tCommon neighbors: 3\n",
      "\tfor\n",
      "\t\tw=1: 7/10 nearest neighbors are preposition\n",
      "\t\tw=6: 3/10 nearest neighbors are preposition\n",
      "\t\tCommon neighbors: 2\n",
      "\tbecause\n",
      "\t\tw=1: 1/10 nearest neighbors are preposition\n",
      "\t\tw=6: 1/10 nearest neighbors are preposition\n",
      "\t\tCommon neighbors: 1\n",
      "\tunlike\n",
      "\t\tw=1: 1/10 nearest neighbors are preposition\n",
      "\t\tw=6: 0/10 nearest neighbors are preposition\n",
      "\t\tCommon neighbors: 1\n",
      "\talong\n",
      "\t\tw=1: 6/10 nearest neighbors are preposition\n",
      "\t\tw=6: 1/10 nearest neighbors are preposition\n",
      "\t\tCommon neighbors: 2\n",
      "\tbefore\n",
      "\t\tw=1: 7/10 nearest neighbors are preposition\n",
      "\t\tw=6: 4/10 nearest neighbors are preposition\n",
      "\t\tCommon neighbors: 4\n",
      "\tof\n",
      "\t\tw=1: 3/10 nearest neighbors are preposition\n",
      "\t\tw=6: 2/10 nearest neighbors are preposition\n",
      "\t\tCommon neighbors: 3\n",
      "\tinside\n",
      "\t\tw=1: 8/10 nearest neighbors are preposition\n",
      "\t\tw=6: 3/10 nearest neighbors are preposition\n",
      "\t\tCommon neighbors: 3\n",
      "\ttoward\n",
      "\t\tw=1: 3/10 nearest neighbors are preposition\n",
      "\t\tw=6: 2/10 nearest neighbors are preposition\n",
      "\t\tCommon neighbors: 3\n",
      "\tper\n",
      "\t\tw=1: 0/10 nearest neighbors are preposition\n",
      "\t\tw=6: 2/10 nearest neighbors are preposition\n",
      "\t\tCommon neighbors: 2\n",
      "\taround\n",
      "\t\tw=1: 5/10 nearest neighbors are preposition\n",
      "\t\tw=6: 6/10 nearest neighbors are preposition\n",
      "\t\tCommon neighbors: 3\n",
      "\tnear\n",
      "\t\tw=1: 5/10 nearest neighbors are preposition\n",
      "\t\tw=6: 0/10 nearest neighbors are preposition\n",
      "\t\tCommon neighbors: 1\n",
      "\tbeyond\n",
      "\t\tw=1: 5/10 nearest neighbors are preposition\n",
      "\t\tw=6: 0/10 nearest neighbors are preposition\n",
      "\t\tCommon neighbors: 1\n",
      "\twhether\n",
      "\t\tw=1: 2/10 nearest neighbors are preposition\n",
      "\t\tw=6: 0/10 nearest neighbors are preposition\n",
      "\t\tCommon neighbors: 3\n",
      "\tuntil\n",
      "\t\tw=1: 0/10 nearest neighbors are preposition\n",
      "\t\tw=6: 0/10 nearest neighbors are preposition\n",
      "\t\tCommon neighbors: 9\n",
      "\tout\n",
      "\t\tw=1: 3/10 nearest neighbors are preposition\n",
      "\t\tw=6: 1/10 nearest neighbors are preposition\n",
      "\t\tCommon neighbors: 6\n",
      "\tas\n",
      "\t\tw=1: 4/10 nearest neighbors are preposition\n",
      "\t\tw=6: 1/10 nearest neighbors are preposition\n",
      "\t\tCommon neighbors: 3\n",
      "\twithout\n",
      "\t\tw=1: 3/10 nearest neighbors are preposition\n",
      "\t\tw=6: 1/10 nearest neighbors are preposition\n",
      "\t\tCommon neighbors: 2\n",
      "\tthan\n",
      "\t\tw=1: 2/10 nearest neighbors are preposition\n",
      "\t\tw=6: 1/10 nearest neighbors are preposition\n",
      "\t\tCommon neighbors: 3\n",
      "\tthough\n",
      "\t\tw=1: 3/10 nearest neighbors are preposition\n",
      "\t\tw=6: 2/10 nearest neighbors are preposition\n",
      "\t\tCommon neighbors: 4\n",
      "\tat\n",
      "\t\tw=1: 6/10 nearest neighbors are preposition\n",
      "\t\tw=6: 2/10 nearest neighbors are preposition\n",
      "\t\tCommon neighbors: 2\n",
      "\tsince\n",
      "\t\tw=1: 1/10 nearest neighbors are preposition\n",
      "\t\tw=6: 3/10 nearest neighbors are preposition\n",
      "\t\tCommon neighbors: 1\n",
      "\toutside\n",
      "\t\tw=1: 9/10 nearest neighbors are preposition\n",
      "\t\tw=6: 6/10 nearest neighbors are preposition\n",
      "\t\tCommon neighbors: 6\n",
      "\tagainst\n",
      "\t\tw=1: 6/10 nearest neighbors are preposition\n",
      "\t\tw=6: 0/10 nearest neighbors are preposition\n",
      "\t\tCommon neighbors: 0\n",
      "\tunder\n",
      "\t\tw=1: 6/10 nearest neighbors are preposition\n",
      "\t\tw=6: 3/10 nearest neighbors are preposition\n",
      "\t\tCommon neighbors: 2\n"
     ]
    }
   ],
   "source": [
    "counter = {}\n",
    "\n",
    "for tag in [\"noun\", \"adjective\", \"verb\", \"preposition\"]:\n",
    "    counter[tag] = {}\n",
    "    counter[tag][1] = {}\n",
    "    counter[tag][6] = {}\n",
    "    words = query_words[tag]\n",
    "    print(tag)\n",
    "    for word in words:\n",
    "        s1 = set(get_nearest_neighbors(cpmi_1_, word, 10))\n",
    "        l1 = tag_neighbors(s1)\n",
    "        c1 = Counter(l1)\n",
    "        counter = neighbor_tag_counter(counter, tag, 1, c1)\n",
    "        s6 = set(get_nearest_neighbors(cpmi_6_, word, 10))\n",
    "        l6 = tag_neighbors(s6)\n",
    "        c6 = Counter(l6)\n",
    "        counter = neighbor_tag_counter(counter, tag, 6, c6)\n",
    "        common = len(s1 & s6)\n",
    "        print(\"\\t\"+word)\n",
    "        print(\"\\t\\t\"+\"w=1: \"+str(c1[tag])+\"/10 nearest neighbors are \"+tag)\n",
    "        print(\"\\t\\t\"+\"w=6: \"+str(c6[tag])+\"/10 nearest neighbors are \"+tag)\n",
    "        print(\"\\t\\tCommon neighbors: \"+str(common))"
   ]
  },
  {
   "cell_type": "code",
   "execution_count": 65,
   "metadata": {},
   "outputs": [
    {
     "data": {
      "text/plain": [
       "{'adjective': {1: {'adjective': 165,\n",
       "   'noun': 243,\n",
       "   'preposition': 1,\n",
       "   'verb': 72},\n",
       "  6: {'adjective': 92, 'noun': 339, 'preposition': 2, 'verb': 41}},\n",
       " 'noun': {1: {'adjective': 18, 'noun': 444, 'preposition': 0, 'verb': 26},\n",
       "  6: {'adjective': 25, 'noun': 432, 'preposition': 1, 'verb': 37}},\n",
       " 'preposition': {1: {'adjective': 21,\n",
       "   'noun': 60,\n",
       "   'preposition': 187,\n",
       "   'verb': 58},\n",
       "  6: {'adjective': 35, 'noun': 159, 'preposition': 93, 'verb': 46}},\n",
       " 'verb': {1: {'adjective': 30, 'noun': 176, 'preposition': 3, 'verb': 278},\n",
       "  6: {'adjective': 36, 'noun': 343, 'preposition': 6, 'verb': 96}}}"
      ]
     },
     "execution_count": 65,
     "metadata": {},
     "output_type": "execute_result"
    }
   ],
   "source": [
    "counter"
   ]
  },
  {
   "cell_type": "code",
   "execution_count": 74,
   "metadata": {},
   "outputs": [
    {
     "name": "stdout",
     "output_type": "stream",
     "text": [
      "consequence\n",
      "\tw=1: ['mistake', 'tendency', 'interruption', 'devastation', 'outcome', 'auspices', 'implications', 'continuation', 'consequences', 'conclusion']\n",
      "\tw=6: ['risk', 'behaviour', 'affect', 'measures', 'cause', 'depends', 'regarding', 'outcomes', 'circumstances', 'patients']\n",
      "\tCommon neighbors: 0\n"
     ]
    }
   ],
   "source": [
    "# \"consequence\""
   ]
  },
  {
   "cell_type": "code",
   "execution_count": 73,
   "metadata": {},
   "outputs": [
    {
     "name": "stdout",
     "output_type": "stream",
     "text": [
      "questionable\n",
      "\tw=1: ['dubious', 'doubtful', 'problematic', 'biased', 'controversial', 'debatable', 'tendentious', 'unverified', 'unclear', 'encyclopedic']\n",
      "\tw=6: ['facts', 'citations', 'verify', 'verifiable', 'dubious', 'unsourced', 'questioned', 'opinion', 'npov', 'sourced']\n",
      "\tCommon neighbors: 1\n",
      "modifying\n",
      "\tw=1: ['referring', 'masculine', '1695', 'deleting', 'vandalizing', 'redirecting', 'entirety', 'restoring', 'recreating', 'synthesized']\n",
      "\tw=6: ['firmware', 'indefinite', 'emissions', 'wikilink', 'specifies', 'update', 'ethernet', 'hardware', 'reverting', 'vandals']\n",
      "\tCommon neighbors: 0\n",
      "during\n",
      "\tw=1: ['and', 'were', 'after', 'from', 'when', 'at', 'between', 'until', 'had', 'before']\n",
      "\tw=6: ['war', 'after', 'early', 'years', 'until', 'year', 'following', 'before', 'world', 'later']\n",
      "\tCommon neighbors: 3\n"
     ]
    }
   ],
   "source": [
    "# \"questionable\", \"modifying\", \"during\""
   ]
  },
  {
   "cell_type": "code",
   "execution_count": 70,
   "metadata": {},
   "outputs": [
    {
     "name": "stdout",
     "output_type": "stream",
     "text": [
      "until\n",
      "\tw=1: ['december', 'october', 'november', 'january', 'april', 'june', 'february', 'july', 'september', 'august']\n",
      "\tw=6: ['january', 'march', 'june', 'july', 'september', 'august', 'october', 'december', 'april', 'november']\n",
      "\tCommon neighbors: 9\n",
      "southeastern\n",
      "\tw=1: ['northeastern', 'northwestern', 'southwestern', 'eastern', 'southern', 'northern', 'western', 'southwest', 'south-central', 'southeast']\n",
      "\tw=6: ['northeastern', 'southwestern', 'southern', 'northeast', 'northwestern', 'southwest', 'eastern', 'western', 'northern', 'northwest']\n",
      "\tCommon neighbors: 8\n"
     ]
    }
   ],
   "source": [
    "# \"until\", \"southeastern\""
   ]
  },
  {
   "cell_type": "markdown",
   "metadata": {},
   "source": [
    "### 1.4.3 Word with Multiple Senses  "
   ]
  },
  {
   "cell_type": "code",
   "execution_count": 68,
   "metadata": {},
   "outputs": [],
   "source": [
    "multiple = [\"foot\", \"bill\", \"bit\", \"bat\", \"star\", \"seal\", \n",
    "\"can\", \"club\", \"bank\", \"bear\", \"pool\", \"pound\",\n",
    "\"head\", \"bore\", \"current\", \"custom\", \"doctor\",\"channel\",\n",
    "\"novel\", \"patient\", \"plane\", \"strike\", \"like\", \"charge\",\n",
    "\"minor\", \"suit\", \"trace\", \"chair\", \"company\", \"date\"]"
   ]
  },
  {
   "cell_type": "code",
   "execution_count": 69,
   "metadata": {},
   "outputs": [
    {
     "name": "stdout",
     "output_type": "stream",
     "text": [
      "foot\n",
      "\tw=1: ['feet', 'meters', 'metres', 'inches', 'kilometers', 'mile', 'infantry', 'kilometres', 'minute', 'leg']\n",
      "\tw=6: ['feet', 'regiment', 'front', 'floor', 'infantry', 'down', 'battalion', 'wall', 'leg', 'rear']\n",
      "\tCommon neighbors: 3\n",
      "bill\n",
      "\tw=1: ['john', 'william', 'david', 'jim', 'james', 'george', 'tom', 'mike', 'robert', 'bob']\n",
      "\tw=6: ['david', 'james', 'john', 'bob', 'william', 'michael', 'robert', 'george', 'smith', 'paul']\n",
      "\tCommon neighbors: 7\n",
      "bit\n",
      "\tw=1: ['very', 'somewhat', 'too', 'pretty', 'little', 'extremely', 'rather', 'slightly', 'quite', 'much']\n",
      "\tw=6: ['really', 'me', 'something', 'too', 'seems', \"'m\", 'think', 'someone', 'need', 'little']\n",
      "\tCommon neighbors: 2\n",
      "bat\n",
      "\tw=1: ['bats', 'crabs', 'rodents', 'jharkhand', 'equator', 'pitching', 'swallow', 'shortstop', 'fish', 'slayer']\n",
      "\tw=6: ['bats', 'innings', 'batting', 'wickets', 'bowler', 'ball', 'birds', 'bird', 'pitcher', 'softball']\n",
      "\tCommon neighbors: 1\n",
      "star\n",
      "\tw=1: ['stars', \"'s\", 'tv', \"'\", 'actor', 'radio', 'coach', 'sun', '(', 'and']\n",
      "\tw=6: ['stars', 'tv', 'movie', 'television', 'featured', 'character', 'show', 'series', 'episode', 'appeared']\n",
      "\tCommon neighbors: 2\n",
      "seal\n",
      "\tw=1: ['seals', 'treasure', 'trunks', 'skirt', 'bethany', 'commendation', 'coat', 'veil', 'mask', 'sponsors']\n",
      "\tw=6: ['whale', 'seals', 'boat', 'statue', 'golden', 'rescue', 'cargo', 'stamp', 'emblem', 'logo']\n",
      "\tCommon neighbors: 1\n",
      "can\n",
      "\tw=1: ['could', 'will', 'would', 'may', 'should', 'must', 'might', 'or', \"'t\", 'these']\n",
      "\tw=6: ['if', 'will', 'you', 'so', 'could', 'be', 'or', 'any', 'would', 'do']\n",
      "\tCommon neighbors: 4\n",
      "club\n",
      "\tw=1: ['clubs', 'team', 'league', 'championships', 'federation', 'championship', 'international', 'national', 'association', 'teams']\n",
      "\tw=6: ['football', 'league', 'team', 'played', 'season', 'cup', 'won', 'championship', 'playing', 'professional']\n",
      "\tCommon neighbors: 3\n",
      "bank\n",
      "\tw=1: ['banks', 'insurance', 'company', 'corporation', 'banking', 'government', 'railway', 'library', 'business', 'companies']\n",
      "\tw=6: ['banks', 'river', 'corporation', 'west', 'capital', 'company', 'railway', 'located', 'central', 'east']\n",
      "\tCommon neighbors: 4\n",
      "bear\n",
      "\tw=1: ['bears', 'elk', 'wolf', 'pine', 'goose', 'butte', 'eagle', 'tiger', 'dragon', 'oak']\n",
      "\tw=6: ['bears', 'deer', 'mountain', 'hunting', 'elk', 'wild', 'wolf', 'blue', 'creek', 'lion']\n",
      "\tCommon neighbors: 3\n",
      "pool\n",
      "\tw=1: ['pools', 'indoor', 'snooker', 'swimming', 'knockout', 'dining', 'poker', 'enclosure', 'maze', 'water']\n",
      "\tw=6: ['swimming', 'indoor', 'outdoor', 'pools', 'facilities', 'water', 'room', 'golf', 'rooms', 'gymnasium']\n",
      "\tCommon neighbors: 4\n",
      "pound\n",
      "\tw=1: ['gallons', 'shillings', 'bce', 'miles', 'kilometers', 'acres', 'pounds', 'meters', 'snoop', 'cent']\n",
      "\tw=6: ['pounds', 'euro', 'cents', 'ezra', 'tons', 'coin', 'currency', 'coins', 'dollar', 'dollars']\n",
      "\tCommon neighbors: 1\n",
      "head\n",
      "\tw=1: ['assistant', 'heads', 'chief', 'and', 'director', 'former', 'coach', 'member', \"'s\", 'position']\n",
      "\tw=6: ['coach', 'former', 'john', 'white', ',', 'black', 'off', 'red', 'back', 'left']\n",
      "\tCommon neighbors: 2\n",
      "bore\n",
      "\tw=1: ['blanked', 'symbolize', 'stabs', 'influx', 'semi-automatic', 'adhere', 'notts', 'wore', 'stepmother', 'possess']\n",
      "\tw=6: ['bearing', 'cylinder', 'bears', 'diameter', 'seal', 'shape', 'surviving', 'cap', 'bear', 'heir']\n",
      "\tCommon neighbors: 0\n",
      "current\n",
      "\tw=1: ['former', 'original', 'previous', 'same', 'whose', 'own', 'main', 'future', 'its', 'recent']\n",
      "\tw=6: ['using', 'system', 'power', 'former', 'include', 'different', 'change', 'possible', 'information', 'main']\n",
      "\tCommon neighbors: 2\n",
      "custom\n",
      "\tw=1: ['midi', 'leather', 'automation', 'cad', 'navbox', 'security', 'desktop', 'standard', 'sg', 'computer']\n",
      "\tw=6: ['applications', 'software', 'interface', 'microsoft', 'standard', 'hardware', 'models', 'computer', 'allows', 'mobile']\n",
      "\tCommon neighbors: 2\n",
      "doctor\n",
      "\tw=1: ['doctorate', 'doctors', 'baronet', 'inning', 'caution', 'physician', 'man', 'installment', 'her', 'studio']\n",
      "\tw=6: ['medical', 'man', 'professor', 'mother', 'medicine', 'degree', 'himself', 'young', 'woman', 'dr']\n",
      "\tCommon neighbors: 1\n",
      "channel\n",
      "\tw=1: ['channels', 'network', 'television', 'tv', 'percent', 'satellite', 'route', 'minutes', 'tackles', 'seconds']\n",
      "\tw=6: ['television', 'tv', 'network', 'broadcast', 'radio', 'broadcasting', 'news', 'channels', 'aired', 'cable']\n",
      "\tCommon neighbors: 4\n",
      "novel\n",
      "\tw=1: ['novels', 'book', 'film', 'fiction', 'story', 'movie', 'memoir', 'thriller', 'poem', 'drama']\n",
      "\tw=6: ['story', 'book', 'written', 'fiction', 'character', 'writer', 'published', 'novels', 'author', 'film']\n",
      "\tCommon neighbors: 5\n",
      "patient\n",
      "\tw=1: ['patients', 'awareness', 'customer', 'person', 'renal', 'intent', 'milestone', 'pediatric', 'efficiency', 'afloat']\n",
      "\tw=6: ['patients', 'clinical', 'treatment', 'disease', 'symptoms', 'mental', 'cancer', 'disorders', 'therapy', 'diagnosis']\n",
      "\tCommon neighbors: 1\n",
      "plane\n",
      "\tw=1: ['planes', 'airplane', 'aircraft', 'helicopter', 'aeroplane', 'shear', 'ship', 'car', 'boat', 'space']\n",
      "\tw=6: ['aircraft', 'flight', 'crash', 'crashed', 'planes', 'pilot', 'surface', 'helicopter', 'axis', 'flying']\n",
      "\tCommon neighbors: 3\n",
      "strike\n",
      "\tw=1: ['strikes', 'airlift', 'attack', 'bombing', 'combat', 'operations', 'force', 'warfare', 'reconnaissance', 'wing']\n",
      "\tw=6: ['strikes', 'force', 'attack', 'workers', 'armed', 'squadron', 'troops', 'forces', 'combat', 'aircraft']\n",
      "\tCommon neighbors: 4\n",
      "like\n",
      "\tw=1: ['such', 'are', 'and', 'other', 'these', 'or', 'including', ',', 'have', 'include']\n",
      "\tw=6: ['you', 'such', 'so', 'some', 'we', \"'t\", 'can', 'do', 'if', 'just']\n",
      "\tCommon neighbors: 1\n",
      "charge\n",
      "\tw=1: ['charges', 'capacity', 'fee', 'charging', 'responsibility', 'depots', 'steps', 'fees', 'ownership', 'offense']\n",
      "\tw=6: ['charges', 'charged', 'energy', 'police', 'security', 'responsible', 'officer', 'officers', 'services', 'required']\n",
      "\tCommon neighbors: 1\n",
      "minor\n",
      "\tw=1: ['major', 'serious', 'significant', 'important', 'severe', 'trivial', 'various', 'small', 'recent', 'numerous']\n",
      "\tw=6: ['major', 'baseball', 'league', 'players', 'played', 'games', 'numerous', 'teams', 'despite', 'coach']\n",
      "\tCommon neighbors: 2\n",
      "suit\n",
      "\tw=1: ['suits', 'lawsuit', 'lawsuits', 'complaint', 'clarification', 'shirt', 'trousers', 'shield', 'charges', 'shirts']\n",
      "\tw=6: ['suits', 'wearing', 'filed', 'armor', 'clothes', 'wear', 'wears', 'shirt', 'dress', 'hair']\n",
      "\tCommon neighbors: 2\n",
      "trace\n",
      "\tw=1: ['conceal', 'toxic', 'distinguish', 'regard', 'avail', 'preserves', 'detonation', 'entirety', 'amphibians', 'eocene']\n",
      "\tw=6: ['traces', 'toxic', 'visible', 'compounds', 'chemical', 'fossils', 'continuous', 'extent', 'lineage', 'minerals']\n",
      "\tCommon neighbors: 1\n",
      "chair\n",
      "\tw=1: ['chairperson', 'professorship', 'chairman', 'curator', 'rector', 'executive', 'secretary-general', 'principals', 'editor-in-chief', 'chancellor']\n",
      "\tw=6: ['professor', 'chairman', 'vice', 'institute', 'committee', 'secretary', 'appointed', 'faculty', 'lecturer', 'deputy']\n",
      "\tCommon neighbors: 1\n",
      "company\n",
      "\tw=1: ['companies', 'industry', 'co', 'corporation', 'business', 'firm', 'factory', 'services', 'industries', 'group']\n",
      "\tw=6: ['business', 'companies', 'corporation', 'service', 'services', 'became', 'group', 'production', 'sold', 'owned']\n",
      "\tCommon neighbors: 5\n",
      "date\n",
      "\tw=1: ['dates', 'location', 'value', 'timing', 'width', 'name', 'url', 'wording', 'amount', 'day']\n",
      "\tw=6: ['dates', 'release', 'period', 'days', 'beginning', 'late', 'earlier', 'prior', 'version', 'dating']\n",
      "\tCommon neighbors: 1\n"
     ]
    }
   ],
   "source": [
    "for word in multiple:\n",
    "    print(word)\n",
    "    l1 = get_nearest_neighbors(cpmi_1_, word, 10)\n",
    "    l6 = get_nearest_neighbors(cpmi_6_, word, 10)\n",
    "    common = len(set(l1) & set(l6))\n",
    "    print(\"\\t\"+\"w=1: \"+str(l1))\n",
    "    print(\"\\t\"+\"w=6: \"+str(l6))\n",
    "    print(\"\\tCommon neighbors: \"+str(common))"
   ]
  }
 ],
 "metadata": {
  "kernelspec": {
   "display_name": "Python 3",
   "language": "python",
   "name": "python3"
  },
  "language_info": {
   "codemirror_mode": {
    "name": "ipython",
    "version": 3
   },
   "file_extension": ".py",
   "mimetype": "text/x-python",
   "name": "python",
   "nbconvert_exporter": "python",
   "pygments_lexer": "ipython3",
   "version": "3.6.4"
  }
 },
 "nbformat": 4,
 "nbformat_minor": 2
}
