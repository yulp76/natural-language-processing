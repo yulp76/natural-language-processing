{
 "cells": [
  {
   "cell_type": "code",
   "execution_count": 1,
   "metadata": {},
   "outputs": [
    {
     "name": "stderr",
     "output_type": "stream",
     "text": [
      "Using TensorFlow backend.\n"
     ]
    }
   ],
   "source": [
    "import numpy as np\n",
    "import keras\n",
    "import re\n",
    "from keras.models import Sequential\n",
    "from keras.layers import Dense, Activation\n",
    "from keras.utils import to_categorical\n",
    "from keras.callbacks import Callback, ModelCheckpoint, EarlyStopping\n",
    "from sklearn.preprocessing import LabelEncoder"
   ]
  },
  {
   "cell_type": "markdown",
   "metadata": {},
   "source": [
    "### Read Data"
   ]
  },
  {
   "cell_type": "code",
   "execution_count": 2,
   "metadata": {},
   "outputs": [],
   "source": [
    "with open('embeddings-twitter.txt',encoding='utf-8') as f:\n",
    "    emb_raw= f.read().splitlines()"
   ]
  },
  {
   "cell_type": "code",
   "execution_count": 3,
   "metadata": {},
   "outputs": [],
   "source": [
    "with open('tweet-pos/tweets-train.txt',encoding='utf-8') as f:\n",
    "    train = list(map(lambda x: re.split(r'\\n|\\t', x), f.read().split(\"\\n\\n\")[:-1]))\n",
    "\n",
    "with open('tweet-pos/tweets-dev.txt',encoding='utf-8') as f:\n",
    "    dev = list(map(lambda x: re.split(r'\\n|\\t', x), f.read().split(\"\\n\\n\")[:-1]))\n",
    "\n",
    "with open('tweet-pos/tweets-devtest.txt',encoding='utf-8') as f:\n",
    "    devtest = list(map(lambda x: re.split(r'\\n|\\t', x), f.read().split(\"\\n\\n\")[:-1]))"
   ]
  },
  {
   "cell_type": "markdown",
   "metadata": {},
   "source": [
    "### Preprocessing"
   ]
  },
  {
   "cell_type": "code",
   "execution_count": 4,
   "metadata": {},
   "outputs": [],
   "source": [
    "emb = {}\n",
    "for entry in emb_raw:\n",
    "    l = entry.split()\n",
    "    emb[l[0]] = np.array(list(map(float, l[1:])))"
   ]
  },
  {
   "cell_type": "code",
   "execution_count": 5,
   "metadata": {},
   "outputs": [],
   "source": [
    "unk = emb[\"UUUNKKK\"]"
   ]
  },
  {
   "cell_type": "code",
   "execution_count": 6,
   "metadata": {},
   "outputs": [],
   "source": [
    "def get_emb(emb, word):\n",
    "    return emb.get(word, unk)"
   ]
  },
  {
   "cell_type": "code",
   "execution_count": 7,
   "metadata": {},
   "outputs": [],
   "source": [
    "def preprocessing(dset, w, emb):\n",
    "    inputs = []\n",
    "    labels = []\n",
    "    for s in dset:\n",
    "        tokens = s[::2]\n",
    "        n = len(tokens)\n",
    "        labels += s[1::2]\n",
    "        embeddings = [get_emb(emb, '<s>')]*w +\\\n",
    "                     [get_emb(emb, token) for token in tokens] +\\\n",
    "                     [get_emb(emb, '</s>')]*w\n",
    "        for i in range(w, w+n):\n",
    "            inputs.append(np.concatenate(embeddings[i-w:i+w+1]))\n",
    "    x = np.array(inputs)\n",
    "    categories = set(labels)\n",
    "    return x, labels, categories"
   ]
  },
  {
   "cell_type": "code",
   "execution_count": 8,
   "metadata": {},
   "outputs": [],
   "source": [
    "train_x, train_labels, train_categories = preprocessing(train, 1, emb)\n",
    "dev_x, dev_labels, dev_categories = preprocessing(dev, 1, emb)\n",
    "devtest_x, devtest_labels, devtest_categories = preprocessing(devtest, 1, emb)"
   ]
  },
  {
   "cell_type": "code",
   "execution_count": 9,
   "metadata": {},
   "outputs": [],
   "source": [
    "n = len(train_categories)"
   ]
  },
  {
   "cell_type": "code",
   "execution_count": 10,
   "metadata": {},
   "outputs": [
    {
     "data": {
      "text/plain": [
       "{'M', 'Y'}"
      ]
     },
     "execution_count": 10,
     "metadata": {},
     "output_type": "execute_result"
    }
   ],
   "source": [
    "train_categories - dev_categories"
   ]
  },
  {
   "cell_type": "code",
   "execution_count": 11,
   "metadata": {},
   "outputs": [
    {
     "data": {
      "text/plain": [
       "{'M', 'Y'}"
      ]
     },
     "execution_count": 11,
     "metadata": {},
     "output_type": "execute_result"
    }
   ],
   "source": [
    "train_categories - devtest_categories"
   ]
  },
  {
   "cell_type": "code",
   "execution_count": 12,
   "metadata": {},
   "outputs": [],
   "source": [
    "encoder = LabelEncoder()\n",
    "encoder.fit(train_labels)\n",
    "train_y = to_categorical(encoder.transform(train_labels))\n",
    "dev_y = to_categorical(encoder.transform(dev_labels))\n",
    "devtest_y = to_categorical(encoder.transform(devtest_labels))"
   ]
  },
  {
   "cell_type": "markdown",
   "metadata": {},
   "source": [
    "### Baseline Tagger (w=1)"
   ]
  },
  {
   "cell_type": "code",
   "execution_count": 13,
   "metadata": {},
   "outputs": [],
   "source": [
    "callbacks = [EarlyStopping(monitor='val_acc', verbose=1)]"
   ]
  },
  {
   "cell_type": "code",
   "execution_count": 14,
   "metadata": {},
   "outputs": [
    {
     "name": "stdout",
     "output_type": "stream",
     "text": [
      "Train on 14619 samples, validate on 4823 samples\n",
      "Epoch 1/50\n",
      "14619/14619 [==============================] - 1s 78us/step - loss: 2.6491 - acc: 0.3329 - val_loss: 2.2129 - val_acc: 0.4564\n",
      "Epoch 2/50\n",
      "14619/14619 [==============================] - 1s 67us/step - loss: 1.9506 - acc: 0.5355 - val_loss: 1.7563 - val_acc: 0.6050\n",
      "Epoch 3/50\n",
      "14619/14619 [==============================] - 1s 65us/step - loss: 1.5850 - acc: 0.6343 - val_loss: 1.4785 - val_acc: 0.6469\n",
      "Epoch 4/50\n",
      "14619/14619 [==============================] - 1s 66us/step - loss: 1.3528 - acc: 0.6734 - val_loss: 1.2952 - val_acc: 0.6795\n",
      "Epoch 5/50\n",
      "14619/14619 [==============================] - 1s 66us/step - loss: 1.1950 - acc: 0.7057 - val_loss: 1.1657 - val_acc: 0.7074\n",
      "Epoch 6/50\n",
      "14619/14619 [==============================] - 1s 66us/step - loss: 1.0814 - acc: 0.7336 - val_loss: 1.0706 - val_acc: 0.7276\n",
      "Epoch 7/50\n",
      "14619/14619 [==============================] - 1s 66us/step - loss: 0.9958 - acc: 0.7489 - val_loss: 0.9967 - val_acc: 0.7421\n",
      "Epoch 8/50\n",
      "14619/14619 [==============================] - 1s 95us/step - loss: 0.9289 - acc: 0.7598 - val_loss: 0.9375 - val_acc: 0.7570\n",
      "Epoch 9/50\n",
      "14619/14619 [==============================] - 1s 67us/step - loss: 0.8752 - acc: 0.7715 - val_loss: 0.8900 - val_acc: 0.7659\n",
      "Epoch 10/50\n",
      "14619/14619 [==============================] - 1s 88us/step - loss: 0.8312 - acc: 0.7801 - val_loss: 0.8505 - val_acc: 0.7725\n",
      "Epoch 11/50\n",
      "14619/14619 [==============================] - 2s 106us/step - loss: 0.7945 - acc: 0.7864 - val_loss: 0.8178 - val_acc: 0.7765\n",
      "Epoch 12/50\n",
      "14619/14619 [==============================] - 1s 91us/step - loss: 0.7635 - acc: 0.7920 - val_loss: 0.7893 - val_acc: 0.7821\n",
      "Epoch 13/50\n",
      "14619/14619 [==============================] - 1s 69us/step - loss: 0.7368 - acc: 0.7970 - val_loss: 0.7649 - val_acc: 0.7862\n",
      "Epoch 14/50\n",
      "14619/14619 [==============================] - 1s 73us/step - loss: 0.7137 - acc: 0.8024 - val_loss: 0.7438 - val_acc: 0.7906\n",
      "Epoch 15/50\n",
      "14619/14619 [==============================] - 1s 74us/step - loss: 0.6935 - acc: 0.8083 - val_loss: 0.7251 - val_acc: 0.7960\n",
      "Epoch 16/50\n",
      "14619/14619 [==============================] - 1s 89us/step - loss: 0.6756 - acc: 0.8126 - val_loss: 0.7091 - val_acc: 0.8018\n",
      "Epoch 17/50\n",
      "14619/14619 [==============================] - 1s 84us/step - loss: 0.6596 - acc: 0.8178 - val_loss: 0.6945 - val_acc: 0.8092\n",
      "Epoch 18/50\n",
      "14619/14619 [==============================] - 1s 73us/step - loss: 0.6453 - acc: 0.8209 - val_loss: 0.6816 - val_acc: 0.8136\n",
      "Epoch 19/50\n",
      "14619/14619 [==============================] - 1s 67us/step - loss: 0.6325 - acc: 0.8245 - val_loss: 0.6699 - val_acc: 0.8173\n",
      "Epoch 20/50\n",
      "14619/14619 [==============================] - 1s 62us/step - loss: 0.6208 - acc: 0.8278 - val_loss: 0.6593 - val_acc: 0.8190\n",
      "Epoch 21/50\n",
      "14619/14619 [==============================] - 1s 64us/step - loss: 0.6103 - acc: 0.8311 - val_loss: 0.6500 - val_acc: 0.8219\n",
      "Epoch 22/50\n",
      "14619/14619 [==============================] - 1s 71us/step - loss: 0.6005 - acc: 0.8335 - val_loss: 0.6413 - val_acc: 0.8227\n",
      "Epoch 23/50\n",
      "14619/14619 [==============================] - 1s 86us/step - loss: 0.5917 - acc: 0.8360 - val_loss: 0.6334 - val_acc: 0.8244\n",
      "Epoch 24/50\n",
      "14619/14619 [==============================] - 1s 73us/step - loss: 0.5835 - acc: 0.8377 - val_loss: 0.6267 - val_acc: 0.8252\n",
      "Epoch 25/50\n",
      "14619/14619 [==============================] - 1s 76us/step - loss: 0.5759 - acc: 0.8397 - val_loss: 0.6199 - val_acc: 0.8287\n",
      "Epoch 26/50\n",
      "14619/14619 [==============================] - 1s 69us/step - loss: 0.5688 - acc: 0.8416 - val_loss: 0.6141 - val_acc: 0.8285\n",
      "Epoch 00026: early stopping\n"
     ]
    },
    {
     "data": {
      "text/plain": [
       "<keras.callbacks.History at 0x275c0299fd0>"
      ]
     },
     "execution_count": 14,
     "metadata": {},
     "output_type": "execute_result"
    }
   ],
   "source": [
    "model = Sequential()\n",
    "model.add(Dense(128, activation='tanh', input_dim=150))\n",
    "model.add(Dense(n, activation='softmax'))\n",
    "model.compile(optimizer='sgd', loss='categorical_crossentropy', metrics=['accuracy'])\n",
    "model.fit(train_x, train_y, epochs=50, callbacks=callbacks, validation_data=(dev_x, dev_y))"
   ]
  },
  {
   "cell_type": "code",
   "execution_count": 15,
   "metadata": {},
   "outputs": [
    {
     "name": "stdout",
     "output_type": "stream",
     "text": [
      "7152/7152 [==============================] - 0s 28us/step\n",
      "test_acc: 0.8358501118568232\n"
     ]
    }
   ],
   "source": [
    "test_loss, test_acc = model.evaluate(devtest_x, devtest_y)\n",
    "print('test_acc:', test_acc)"
   ]
  },
  {
   "cell_type": "markdown",
   "metadata": {},
   "source": [
    "### Vary w"
   ]
  },
  {
   "cell_type": "markdown",
   "metadata": {},
   "source": [
    "#### w=0 "
   ]
  },
  {
   "cell_type": "code",
   "execution_count": 16,
   "metadata": {},
   "outputs": [],
   "source": [
    "train_x_w0 = preprocessing(train, 0, emb)[0]\n",
    "dev_x_w0 = preprocessing(dev, 0, emb)[0]\n",
    "devtest_x_w0 = preprocessing(devtest, 0, emb)[0]"
   ]
  },
  {
   "cell_type": "code",
   "execution_count": 17,
   "metadata": {},
   "outputs": [
    {
     "name": "stdout",
     "output_type": "stream",
     "text": [
      "Train on 14619 samples, validate on 4823 samples\n",
      "Epoch 1/50\n",
      "14619/14619 [==============================] - 1s 87us/step - loss: 2.7477 - acc: 0.3091 - val_loss: 2.3430 - val_acc: 0.4329\n",
      "Epoch 2/50\n",
      "14619/14619 [==============================] - 1s 74us/step - loss: 2.0795 - acc: 0.5260 - val_loss: 1.8709 - val_acc: 0.6069\n",
      "Epoch 3/50\n",
      "14619/14619 [==============================] - 1s 62us/step - loss: 1.6953 - acc: 0.6211 - val_loss: 1.5669 - val_acc: 0.6513\n",
      "Epoch 4/50\n",
      "14619/14619 [==============================] - 1s 55us/step - loss: 1.4415 - acc: 0.6667 - val_loss: 1.3657 - val_acc: 0.6836\n",
      "Epoch 5/50\n",
      "14619/14619 [==============================] - 1s 65us/step - loss: 1.2710 - acc: 0.7013 - val_loss: 1.2271 - val_acc: 0.7068\n",
      "Epoch 6/50\n",
      "14619/14619 [==============================] - 1s 59us/step - loss: 1.1524 - acc: 0.7216 - val_loss: 1.1285 - val_acc: 0.7220\n",
      "Epoch 7/50\n",
      "14619/14619 [==============================] - 1s 52us/step - loss: 1.0662 - acc: 0.7406 - val_loss: 1.0550 - val_acc: 0.7340\n",
      "Epoch 8/50\n",
      "14619/14619 [==============================] - 1s 51us/step - loss: 1.0011 - acc: 0.7526 - val_loss: 0.9983 - val_acc: 0.7485\n",
      "Epoch 9/50\n",
      "14619/14619 [==============================] - 1s 64us/step - loss: 0.9503 - acc: 0.7635 - val_loss: 0.9532 - val_acc: 0.7522\n",
      "Epoch 10/50\n",
      "14619/14619 [==============================] - 1s 61us/step - loss: 0.9098 - acc: 0.7659 - val_loss: 0.9163 - val_acc: 0.7578\n",
      "Epoch 11/50\n",
      "14619/14619 [==============================] - 1s 60us/step - loss: 0.8764 - acc: 0.7704 - val_loss: 0.8856 - val_acc: 0.7618\n",
      "Epoch 12/50\n",
      "14619/14619 [==============================] - 1s 64us/step - loss: 0.8485 - acc: 0.7736 - val_loss: 0.8593 - val_acc: 0.7661\n",
      "Epoch 13/50\n",
      "14619/14619 [==============================] - 1s 66us/step - loss: 0.8247 - acc: 0.7767 - val_loss: 0.8375 - val_acc: 0.7711\n",
      "Epoch 14/50\n",
      "14619/14619 [==============================] - 1s 63us/step - loss: 0.8041 - acc: 0.7800 - val_loss: 0.8174 - val_acc: 0.7744\n",
      "Epoch 15/50\n",
      "14619/14619 [==============================] - 1s 48us/step - loss: 0.7861 - acc: 0.7832 - val_loss: 0.8004 - val_acc: 0.7773\n",
      "Epoch 16/50\n",
      "14619/14619 [==============================] - 1s 51us/step - loss: 0.7702 - acc: 0.7876 - val_loss: 0.7849 - val_acc: 0.7800\n",
      "Epoch 17/50\n",
      "14619/14619 [==============================] - 1s 47us/step - loss: 0.7560 - acc: 0.7952 - val_loss: 0.7709 - val_acc: 0.7951\n",
      "Epoch 18/50\n",
      "14619/14619 [==============================] - 1s 48us/step - loss: 0.7433 - acc: 0.8020 - val_loss: 0.7588 - val_acc: 0.7997\n",
      "Epoch 19/50\n",
      "14619/14619 [==============================] - 1s 59us/step - loss: 0.7317 - acc: 0.8063 - val_loss: 0.7475 - val_acc: 0.8016\n",
      "Epoch 20/50\n",
      "14619/14619 [==============================] - 1s 51us/step - loss: 0.7214 - acc: 0.8074 - val_loss: 0.7374 - val_acc: 0.8016\n",
      "Epoch 00020: early stopping\n"
     ]
    },
    {
     "data": {
      "text/plain": [
       "<keras.callbacks.History at 0x275c2cd7c18>"
      ]
     },
     "execution_count": 17,
     "metadata": {},
     "output_type": "execute_result"
    }
   ],
   "source": [
    "model_w0 = Sequential()\n",
    "model_w0.add(Dense(128, activation='tanh', input_dim=50))\n",
    "model_w0.add(Dense(n, activation='softmax'))\n",
    "model_w0.compile(optimizer='sgd', loss='categorical_crossentropy', metrics=['accuracy'])\n",
    "model_w0.fit(train_x_w0, train_y, epochs=50, callbacks=callbacks, validation_data=(dev_x_w0, dev_y))"
   ]
  },
  {
   "cell_type": "code",
   "execution_count": 18,
   "metadata": {},
   "outputs": [
    {
     "name": "stdout",
     "output_type": "stream",
     "text": [
      "7152/7152 [==============================] - 0s 25us/step\n",
      "test_acc: 0.8069071588366891\n"
     ]
    }
   ],
   "source": [
    "test_loss, test_acc = model_w0.evaluate(devtest_x_w0, devtest_y)\n",
    "print('test_acc:', test_acc)"
   ]
  },
  {
   "cell_type": "markdown",
   "metadata": {},
   "source": [
    "#### w=2 "
   ]
  },
  {
   "cell_type": "code",
   "execution_count": 19,
   "metadata": {},
   "outputs": [],
   "source": [
    "train_x_w2 = preprocessing(train, 2, emb)[0]\n",
    "dev_x_w2 = preprocessing(dev, 2, emb)[0]\n",
    "devtest_x_w2 = preprocessing(devtest, 2, emb)[0]"
   ]
  },
  {
   "cell_type": "code",
   "execution_count": 20,
   "metadata": {},
   "outputs": [
    {
     "name": "stdout",
     "output_type": "stream",
     "text": [
      "Train on 14619 samples, validate on 4823 samples\n",
      "Epoch 1/50\n",
      "14619/14619 [==============================] - 1s 72us/step - loss: 2.6682 - acc: 0.2887 - val_loss: 2.2438 - val_acc: 0.4201\n",
      "Epoch 2/50\n",
      "14619/14619 [==============================] - 1s 60us/step - loss: 1.9860 - acc: 0.5090 - val_loss: 1.8057 - val_acc: 0.5810\n",
      "Epoch 3/50\n",
      "14619/14619 [==============================] - 1s 60us/step - loss: 1.6289 - acc: 0.6192 - val_loss: 1.5269 - val_acc: 0.6407\n",
      "Epoch 4/50\n",
      "14619/14619 [==============================] - 1s 60us/step - loss: 1.3903 - acc: 0.6719 - val_loss: 1.3355 - val_acc: 0.6763\n",
      "Epoch 5/50\n",
      "14619/14619 [==============================] - 1s 58us/step - loss: 1.2235 - acc: 0.7074 - val_loss: 1.1980 - val_acc: 0.7062\n",
      "Epoch 6/50\n",
      "14619/14619 [==============================] - 1s 59us/step - loss: 1.1023 - acc: 0.7296 - val_loss: 1.0966 - val_acc: 0.7236\n",
      "Epoch 7/50\n",
      "14619/14619 [==============================] - 1s 61us/step - loss: 1.0106 - acc: 0.7468 - val_loss: 1.0181 - val_acc: 0.7425\n",
      "Epoch 8/50\n",
      "14619/14619 [==============================] - 1s 58us/step - loss: 0.9390 - acc: 0.7608 - val_loss: 0.9556 - val_acc: 0.7526\n",
      "Epoch 9/50\n",
      "14619/14619 [==============================] - 1s 60us/step - loss: 0.8813 - acc: 0.7731 - val_loss: 0.9051 - val_acc: 0.7630\n",
      "Epoch 10/50\n",
      "14619/14619 [==============================] - 1s 60us/step - loss: 0.8341 - acc: 0.7827 - val_loss: 0.8637 - val_acc: 0.7713\n",
      "Epoch 11/50\n",
      "14619/14619 [==============================] - 1s 66us/step - loss: 0.7944 - acc: 0.7885 - val_loss: 0.8286 - val_acc: 0.7752\n",
      "Epoch 12/50\n",
      "14619/14619 [==============================] - 1s 69us/step - loss: 0.7608 - acc: 0.7949 - val_loss: 0.7983 - val_acc: 0.7804\n",
      "Epoch 13/50\n",
      "14619/14619 [==============================] - 1s 73us/step - loss: 0.7317 - acc: 0.8004 - val_loss: 0.7725 - val_acc: 0.7856\n",
      "Epoch 14/50\n",
      "14619/14619 [==============================] - 1s 62us/step - loss: 0.7064 - acc: 0.8045 - val_loss: 0.7502 - val_acc: 0.7908\n",
      "Epoch 15/50\n",
      "14619/14619 [==============================] - 1s 61us/step - loss: 0.6841 - acc: 0.8091 - val_loss: 0.7303 - val_acc: 0.7941\n",
      "Epoch 16/50\n",
      "14619/14619 [==============================] - 1s 101us/step - loss: 0.6643 - acc: 0.8133 - val_loss: 0.7133 - val_acc: 0.7981\n",
      "Epoch 17/50\n",
      "14619/14619 [==============================] - 1s 93us/step - loss: 0.6468 - acc: 0.8173 - val_loss: 0.6980 - val_acc: 0.8034\n",
      "Epoch 18/50\n",
      "14619/14619 [==============================] - 1s 81us/step - loss: 0.6309 - acc: 0.8228 - val_loss: 0.6844 - val_acc: 0.8070\n",
      "Epoch 19/50\n",
      "14619/14619 [==============================] - 1s 61us/step - loss: 0.6166 - acc: 0.8284 - val_loss: 0.6725 - val_acc: 0.8107\n",
      "Epoch 20/50\n",
      "14619/14619 [==============================] - 1s 73us/step - loss: 0.6037 - acc: 0.8321 - val_loss: 0.6608 - val_acc: 0.8165\n",
      "Epoch 21/50\n",
      "14619/14619 [==============================] - 1s 78us/step - loss: 0.5917 - acc: 0.8367 - val_loss: 0.6510 - val_acc: 0.8194\n",
      "Epoch 22/50\n",
      "14619/14619 [==============================] - 1s 81us/step - loss: 0.5808 - acc: 0.8393 - val_loss: 0.6426 - val_acc: 0.8225\n",
      "Epoch 23/50\n",
      "14619/14619 [==============================] - 1s 57us/step - loss: 0.5708 - acc: 0.8422 - val_loss: 0.6345 - val_acc: 0.8242\n",
      "Epoch 24/50\n",
      "14619/14619 [==============================] - 1s 60us/step - loss: 0.5617 - acc: 0.8432 - val_loss: 0.6269 - val_acc: 0.8267\n",
      "Epoch 25/50\n",
      "14619/14619 [==============================] - 1s 60us/step - loss: 0.5530 - acc: 0.8464 - val_loss: 0.6207 - val_acc: 0.8267\n",
      "Epoch 00025: early stopping\n"
     ]
    },
    {
     "data": {
      "text/plain": [
       "<keras.callbacks.History at 0x275c516e7f0>"
      ]
     },
     "execution_count": 20,
     "metadata": {},
     "output_type": "execute_result"
    }
   ],
   "source": [
    "model_w2 = Sequential()\n",
    "model_w2.add(Dense(128, activation='tanh', input_dim=250))\n",
    "model_w2.add(Dense(n, activation='softmax'))\n",
    "model_w2.compile(optimizer='sgd', loss='categorical_crossentropy', metrics=['accuracy'])\n",
    "model_w2.fit(train_x_w2, train_y, epochs=50, callbacks=callbacks, validation_data=(dev_x_w2, dev_y))"
   ]
  },
  {
   "cell_type": "code",
   "execution_count": 21,
   "metadata": {},
   "outputs": [
    {
     "name": "stdout",
     "output_type": "stream",
     "text": [
      "7152/7152 [==============================] - 0s 33us/step\n",
      "test_acc: 0.8323545861297539\n"
     ]
    }
   ],
   "source": [
    "test_loss, test_acc = model_w2.evaluate(devtest_x_w2, devtest_y)\n",
    "print('test_acc:', test_acc)"
   ]
  },
  {
   "cell_type": "markdown",
   "metadata": {},
   "source": [
    "### Change non-linearity functions"
   ]
  },
  {
   "cell_type": "markdown",
   "metadata": {},
   "source": [
    "#### identity"
   ]
  },
  {
   "cell_type": "code",
   "execution_count": 22,
   "metadata": {},
   "outputs": [
    {
     "name": "stdout",
     "output_type": "stream",
     "text": [
      "Train on 14619 samples, validate on 4823 samples\n",
      "Epoch 1/50\n",
      "14619/14619 [==============================] - 1s 67us/step - loss: 2.6353 - acc: 0.3212 - val_loss: 2.1784 - val_acc: 0.4653\n",
      "Epoch 2/50\n",
      "14619/14619 [==============================] - 1s 55us/step - loss: 1.8971 - acc: 0.5481 - val_loss: 1.7064 - val_acc: 0.6015\n",
      "Epoch 3/50\n",
      "14619/14619 [==============================] - 1s 54us/step - loss: 1.5244 - acc: 0.6374 - val_loss: 1.4280 - val_acc: 0.6591\n",
      "Epoch 4/50\n",
      "14619/14619 [==============================] - 1s 56us/step - loss: 1.2934 - acc: 0.6909 - val_loss: 1.2476 - val_acc: 0.7000\n",
      "Epoch 5/50\n",
      "14619/14619 [==============================] - 1s 54us/step - loss: 1.1389 - acc: 0.7246 - val_loss: 1.1210 - val_acc: 0.7211\n",
      "Epoch 6/50\n",
      "14619/14619 [==============================] - 1s 55us/step - loss: 1.0285 - acc: 0.7459 - val_loss: 1.0280 - val_acc: 0.7423\n",
      "Epoch 7/50\n",
      "14619/14619 [==============================] - 1s 54us/step - loss: 0.9455 - acc: 0.7630 - val_loss: 0.9562 - val_acc: 0.7551\n",
      "Epoch 8/50\n",
      "14619/14619 [==============================] - 1s 54us/step - loss: 0.8816 - acc: 0.7735 - val_loss: 0.9002 - val_acc: 0.7670\n",
      "Epoch 9/50\n",
      "14619/14619 [==============================] - ETA: 0s - loss: 0.8321 - acc: 0.782 - 1s 55us/step - loss: 0.8305 - acc: 0.7825 - val_loss: 0.8551 - val_acc: 0.7723\n",
      "Epoch 10/50\n",
      "14619/14619 [==============================] - 1s 55us/step - loss: 0.7890 - acc: 0.7882 - val_loss: 0.8175 - val_acc: 0.7829\n",
      "Epoch 11/50\n",
      "14619/14619 [==============================] - 1s 54us/step - loss: 0.7546 - acc: 0.7942 - val_loss: 0.7863 - val_acc: 0.7875\n",
      "Epoch 12/50\n",
      "14619/14619 [==============================] - 1s 54us/step - loss: 0.7255 - acc: 0.8007 - val_loss: 0.7601 - val_acc: 0.7949\n",
      "Epoch 13/50\n",
      "14619/14619 [==============================] - 1s 56us/step - loss: 0.7007 - acc: 0.8054 - val_loss: 0.7372 - val_acc: 0.7989\n",
      "Epoch 14/50\n",
      "14619/14619 [==============================] - 1s 55us/step - loss: 0.6791 - acc: 0.8111 - val_loss: 0.7181 - val_acc: 0.8070\n",
      "Epoch 15/50\n",
      "14619/14619 [==============================] - 1s 54us/step - loss: 0.6604 - acc: 0.8161 - val_loss: 0.7013 - val_acc: 0.8111\n",
      "Epoch 16/50\n",
      "14619/14619 [==============================] - 1s 55us/step - loss: 0.6440 - acc: 0.8193 - val_loss: 0.6858 - val_acc: 0.8146\n",
      "Epoch 17/50\n",
      "14619/14619 [==============================] - 1s 55us/step - loss: 0.6293 - acc: 0.8233 - val_loss: 0.6733 - val_acc: 0.8163\n",
      "Epoch 18/50\n",
      "14619/14619 [==============================] - 1s 59us/step - loss: 0.6163 - acc: 0.8286 - val_loss: 0.6614 - val_acc: 0.8192\n",
      "Epoch 19/50\n",
      "14619/14619 [==============================] - 1s 56us/step - loss: 0.6046 - acc: 0.8306 - val_loss: 0.6508 - val_acc: 0.8217\n",
      "Epoch 20/50\n",
      "14619/14619 [==============================] - 1s 54us/step - loss: 0.5940 - acc: 0.8347 - val_loss: 0.6415 - val_acc: 0.8238\n",
      "Epoch 21/50\n",
      "14619/14619 [==============================] - 1s 55us/step - loss: 0.5846 - acc: 0.8366 - val_loss: 0.6334 - val_acc: 0.8250\n",
      "Epoch 22/50\n",
      "14619/14619 [==============================] - 1s 64us/step - loss: 0.5757 - acc: 0.8397 - val_loss: 0.6263 - val_acc: 0.8265\n",
      "Epoch 23/50\n",
      "14619/14619 [==============================] - 1s 67us/step - loss: 0.5678 - acc: 0.8429 - val_loss: 0.6186 - val_acc: 0.8285\n",
      "Epoch 24/50\n",
      "14619/14619 [==============================] - 1s 55us/step - loss: 0.5603 - acc: 0.8446 - val_loss: 0.6121 - val_acc: 0.8318\n",
      "Epoch 25/50\n",
      "14619/14619 [==============================] - 1s 54us/step - loss: 0.5536 - acc: 0.8457 - val_loss: 0.6064 - val_acc: 0.8327\n",
      "Epoch 26/50\n",
      "14619/14619 [==============================] - 1s 55us/step - loss: 0.5472 - acc: 0.8481 - val_loss: 0.6022 - val_acc: 0.8331\n",
      "Epoch 27/50\n",
      "14619/14619 [==============================] - 1s 55us/step - loss: 0.5414 - acc: 0.8496 - val_loss: 0.5969 - val_acc: 0.8337\n",
      "Epoch 28/50\n",
      "14619/14619 [==============================] - 1s 55us/step - loss: 0.5360 - acc: 0.8499 - val_loss: 0.5924 - val_acc: 0.8358\n",
      "Epoch 29/50\n",
      "14619/14619 [==============================] - 1s 60us/step - loss: 0.5308 - acc: 0.8514 - val_loss: 0.5892 - val_acc: 0.8356\n",
      "Epoch 00029: early stopping\n"
     ]
    },
    {
     "data": {
      "text/plain": [
       "<keras.callbacks.History at 0x275c9663da0>"
      ]
     },
     "execution_count": 22,
     "metadata": {},
     "output_type": "execute_result"
    }
   ],
   "source": [
    "model_i = Sequential()\n",
    "model_i.add(Dense(128, activation='linear', input_dim=150))\n",
    "model_i.add(Dense(n, activation='softmax'))\n",
    "model_i.compile(optimizer='sgd', loss='categorical_crossentropy', metrics=['accuracy'])\n",
    "model_i.fit(train_x, train_y, epochs=50, callbacks=callbacks, validation_data=(dev_x, dev_y))"
   ]
  },
  {
   "cell_type": "code",
   "execution_count": 23,
   "metadata": {},
   "outputs": [
    {
     "name": "stdout",
     "output_type": "stream",
     "text": [
      "7152/7152 [==============================] - 0s 33us/step\n",
      "test_acc: 0.8386465324384788\n"
     ]
    }
   ],
   "source": [
    "test_loss, test_acc = model_i.evaluate(devtest_x, devtest_y)\n",
    "print('test_acc:', test_acc)"
   ]
  },
  {
   "cell_type": "markdown",
   "metadata": {},
   "source": [
    "#### ReLU "
   ]
  },
  {
   "cell_type": "code",
   "execution_count": 24,
   "metadata": {},
   "outputs": [
    {
     "name": "stdout",
     "output_type": "stream",
     "text": [
      "Train on 14619 samples, validate on 4823 samples\n",
      "Epoch 1/50\n",
      "14619/14619 [==============================] - 1s 94us/step - loss: 2.8691 - acc: 0.2014 - val_loss: 2.5484 - val_acc: 0.2874\n",
      "Epoch 2/50\n",
      "14619/14619 [==============================] - 1s 95us/step - loss: 2.2951 - acc: 0.3977 - val_loss: 2.0975 - val_acc: 0.4748\n",
      "Epoch 3/50\n",
      "14619/14619 [==============================] - 1s 92us/step - loss: 1.8942 - acc: 0.5449 - val_loss: 1.7586 - val_acc: 0.5922\n",
      "Epoch 4/50\n",
      "14619/14619 [==============================] - 1s 90us/step - loss: 1.5972 - acc: 0.6289 - val_loss: 1.5124 - val_acc: 0.6428\n",
      "Epoch 5/50\n",
      "14619/14619 [==============================] - 1s 68us/step - loss: 1.3829 - acc: 0.6700 - val_loss: 1.3338 - val_acc: 0.6768\n",
      "Epoch 6/50\n",
      "14619/14619 [==============================] - 1s 89us/step - loss: 1.2280 - acc: 0.6994 - val_loss: 1.2028 - val_acc: 0.7070\n",
      "Epoch 7/50\n",
      "14619/14619 [==============================] - 1s 85us/step - loss: 1.1128 - acc: 0.7247 - val_loss: 1.1029 - val_acc: 0.7188\n",
      "Epoch 8/50\n",
      "14619/14619 [==============================] - 1s 66us/step - loss: 1.0249 - acc: 0.7413 - val_loss: 1.0246 - val_acc: 0.7385\n",
      "Epoch 9/50\n",
      "14619/14619 [==============================] - 1s 86us/step - loss: 0.9545 - acc: 0.7573 - val_loss: 0.9613 - val_acc: 0.7520\n",
      "Epoch 10/50\n",
      "14619/14619 [==============================] - 1s 80us/step - loss: 0.8971 - acc: 0.7682 - val_loss: 0.9101 - val_acc: 0.7595\n",
      "Epoch 11/50\n",
      "14619/14619 [==============================] - 1s 92us/step - loss: 0.8499 - acc: 0.7779 - val_loss: 0.8656 - val_acc: 0.7690\n",
      "Epoch 12/50\n",
      "14619/14619 [==============================] - 1s 93us/step - loss: 0.8098 - acc: 0.7854 - val_loss: 0.8293 - val_acc: 0.7786\n",
      "Epoch 13/50\n",
      "14619/14619 [==============================] - 1s 65us/step - loss: 0.7757 - acc: 0.7916 - val_loss: 0.7978 - val_acc: 0.7829\n",
      "Epoch 14/50\n",
      "14619/14619 [==============================] - 1s 67us/step - loss: 0.7461 - acc: 0.7964 - val_loss: 0.7703 - val_acc: 0.7879\n",
      "Epoch 15/50\n",
      "14619/14619 [==============================] - 1s 81us/step - loss: 0.7206 - acc: 0.8016 - val_loss: 0.7467 - val_acc: 0.7925\n",
      "Epoch 16/50\n",
      "14619/14619 [==============================] - 1s 96us/step - loss: 0.6981 - acc: 0.8061 - val_loss: 0.7258 - val_acc: 0.7981\n",
      "Epoch 17/50\n",
      "14619/14619 [==============================] - 1s 97us/step - loss: 0.6784 - acc: 0.8108 - val_loss: 0.7082 - val_acc: 0.8047\n",
      "Epoch 18/50\n",
      "14619/14619 [==============================] - 1s 66us/step - loss: 0.6608 - acc: 0.8170 - val_loss: 0.6926 - val_acc: 0.8072\n",
      "Epoch 19/50\n",
      "14619/14619 [==============================] - 1s 75us/step - loss: 0.6451 - acc: 0.8187 - val_loss: 0.6778 - val_acc: 0.8134\n",
      "Epoch 20/50\n",
      "14619/14619 [==============================] - 1s 70us/step - loss: 0.6309 - acc: 0.8238 - val_loss: 0.6642 - val_acc: 0.8155\n",
      "Epoch 21/50\n",
      "14619/14619 [==============================] - 1s 81us/step - loss: 0.6180 - acc: 0.8272 - val_loss: 0.6523 - val_acc: 0.8188\n",
      "Epoch 22/50\n",
      "14619/14619 [==============================] - 1s 93us/step - loss: 0.6063 - acc: 0.8304 - val_loss: 0.6424 - val_acc: 0.8213\n",
      "Epoch 23/50\n",
      "14619/14619 [==============================] - 1s 67us/step - loss: 0.5956 - acc: 0.8338 - val_loss: 0.6328 - val_acc: 0.8246\n",
      "Epoch 24/50\n",
      "14619/14619 [==============================] - 1s 78us/step - loss: 0.5856 - acc: 0.8364 - val_loss: 0.6243 - val_acc: 0.8252\n",
      "Epoch 25/50\n",
      "14619/14619 [==============================] - 1s 98us/step - loss: 0.5766 - acc: 0.8390 - val_loss: 0.6171 - val_acc: 0.8273\n",
      "Epoch 26/50\n",
      "14619/14619 [==============================] - 1s 85us/step - loss: 0.5683 - acc: 0.8417 - val_loss: 0.6089 - val_acc: 0.8287\n",
      "Epoch 27/50\n",
      "14619/14619 [==============================] - 1s 87us/step - loss: 0.5605 - acc: 0.8442 - val_loss: 0.6017 - val_acc: 0.8321\n",
      "Epoch 28/50\n",
      "14619/14619 [==============================] - 1s 95us/step - loss: 0.5533 - acc: 0.8452 - val_loss: 0.5963 - val_acc: 0.8310\n",
      "Epoch 00028: early stopping\n"
     ]
    },
    {
     "data": {
      "text/plain": [
       "<keras.callbacks.History at 0x275c9880080>"
      ]
     },
     "execution_count": 24,
     "metadata": {},
     "output_type": "execute_result"
    }
   ],
   "source": [
    "model_relu = Sequential()\n",
    "model_relu.add(Dense(128, activation='relu', input_dim=150))\n",
    "model_relu.add(Dense(n, activation='softmax'))\n",
    "model_relu.compile(optimizer='sgd', loss='categorical_crossentropy', metrics=['accuracy'])\n",
    "model_relu.fit(train_x, train_y, epochs=50, callbacks=callbacks, validation_data=(dev_x, dev_y))"
   ]
  },
  {
   "cell_type": "code",
   "execution_count": 25,
   "metadata": {},
   "outputs": [
    {
     "name": "stdout",
     "output_type": "stream",
     "text": [
      "7152/7152 [==============================] - 1s 73us/step\n",
      "test_acc: 0.8358501118568232\n"
     ]
    }
   ],
   "source": [
    "test_loss, test_acc = model_relu.evaluate(devtest_x, devtest_y)\n",
    "print('test_acc:', test_acc)"
   ]
  },
  {
   "cell_type": "markdown",
   "metadata": {},
   "source": [
    "#### Sigmoid "
   ]
  },
  {
   "cell_type": "code",
   "execution_count": 26,
   "metadata": {},
   "outputs": [
    {
     "name": "stdout",
     "output_type": "stream",
     "text": [
      "Train on 14619 samples, validate on 4823 samples\n",
      "Epoch 1/50\n",
      "14619/14619 [==============================] - 2s 161us/step - loss: 2.7327 - acc: 0.1696 - val_loss: 2.6573 - val_acc: 0.1951\n",
      "Epoch 2/50\n",
      "14619/14619 [==============================] - 2s 128us/step - loss: 2.6095 - acc: 0.2045 - val_loss: 2.6017 - val_acc: 0.2710\n",
      "Epoch 3/50\n",
      "14619/14619 [==============================] - 2s 121us/step - loss: 2.5511 - acc: 0.2398 - val_loss: 2.5386 - val_acc: 0.2826\n",
      "Epoch 4/50\n",
      "14619/14619 [==============================] - 2s 129us/step - loss: 2.4914 - acc: 0.2833 - val_loss: 2.4756 - val_acc: 0.3067\n",
      "Epoch 5/50\n",
      "14619/14619 [==============================] - 1s 97us/step - loss: 2.4276 - acc: 0.3320 - val_loss: 2.4121 - val_acc: 0.3471\n",
      "Epoch 6/50\n",
      "14619/14619 [==============================] - 1s 77us/step - loss: 2.3594 - acc: 0.3785 - val_loss: 2.3408 - val_acc: 0.3962\n",
      "Epoch 7/50\n",
      "14619/14619 [==============================] - 1s 74us/step - loss: 2.2878 - acc: 0.4166 - val_loss: 2.2696 - val_acc: 0.4180\n",
      "Epoch 8/50\n",
      "14619/14619 [==============================] - 1s 95us/step - loss: 2.2134 - acc: 0.4385 - val_loss: 2.1938 - val_acc: 0.4416\n",
      "Epoch 9/50\n",
      "14619/14619 [==============================] - 1s 69us/step - loss: 2.1392 - acc: 0.4524 - val_loss: 2.1226 - val_acc: 0.4624\n",
      "Epoch 10/50\n",
      "14619/14619 [==============================] - 1s 79us/step - loss: 2.0650 - acc: 0.4690 - val_loss: 2.0492 - val_acc: 0.4761\n",
      "Epoch 11/50\n",
      "14619/14619 [==============================] - 1s 77us/step - loss: 1.9918 - acc: 0.4907 - val_loss: 1.9824 - val_acc: 0.4808\n",
      "Epoch 12/50\n",
      "14619/14619 [==============================] - 1s 69us/step - loss: 1.9220 - acc: 0.5087 - val_loss: 1.9117 - val_acc: 0.5036\n",
      "Epoch 13/50\n",
      "14619/14619 [==============================] - 1s 87us/step - loss: 1.8539 - acc: 0.5390 - val_loss: 1.8454 - val_acc: 0.5507\n",
      "Epoch 14/50\n",
      "14619/14619 [==============================] - 1s 84us/step - loss: 1.7887 - acc: 0.5656 - val_loss: 1.7838 - val_acc: 0.5623\n",
      "Epoch 15/50\n",
      "14619/14619 [==============================] - 1s 87us/step - loss: 1.7270 - acc: 0.5890 - val_loss: 1.7235 - val_acc: 0.5899\n",
      "Epoch 16/50\n",
      "14619/14619 [==============================] - 2s 104us/step - loss: 1.6680 - acc: 0.6050 - val_loss: 1.6661 - val_acc: 0.6179\n",
      "Epoch 17/50\n",
      "14619/14619 [==============================] - 1s 95us/step - loss: 1.6126 - acc: 0.6234 - val_loss: 1.6141 - val_acc: 0.6243\n",
      "Epoch 18/50\n",
      "14619/14619 [==============================] - 1s 90us/step - loss: 1.5603 - acc: 0.6360 - val_loss: 1.5622 - val_acc: 0.6367\n",
      "Epoch 19/50\n",
      "14619/14619 [==============================] - 2s 103us/step - loss: 1.5106 - acc: 0.6485 - val_loss: 1.5140 - val_acc: 0.6479\n",
      "Epoch 20/50\n",
      "14619/14619 [==============================] - 1s 85us/step - loss: 1.4644 - acc: 0.6581 - val_loss: 1.4728 - val_acc: 0.6504\n",
      "Epoch 21/50\n",
      "14619/14619 [==============================] - 2s 106us/step - loss: 1.4210 - acc: 0.6654 - val_loss: 1.4294 - val_acc: 0.6606\n",
      "Epoch 22/50\n",
      "14619/14619 [==============================] - 2s 106us/step - loss: 1.3798 - acc: 0.6723 - val_loss: 1.3910 - val_acc: 0.6680\n",
      "Epoch 23/50\n",
      "14619/14619 [==============================] - 1s 92us/step - loss: 1.3421 - acc: 0.6799 - val_loss: 1.3535 - val_acc: 0.6763\n",
      "Epoch 24/50\n",
      "14619/14619 [==============================] - 2s 110us/step - loss: 1.3065 - acc: 0.6860 - val_loss: 1.3201 - val_acc: 0.6774\n",
      "Epoch 25/50\n",
      "14619/14619 [==============================] - 1s 95us/step - loss: 1.2727 - acc: 0.6912 - val_loss: 1.2889 - val_acc: 0.6877\n",
      "Epoch 26/50\n",
      "14619/14619 [==============================] - 1s 98us/step - loss: 1.2425 - acc: 0.6976 - val_loss: 1.2594 - val_acc: 0.6919\n",
      "Epoch 27/50\n",
      "14619/14619 [==============================] - 2s 114us/step - loss: 1.2134 - acc: 0.7026 - val_loss: 1.2322 - val_acc: 0.6965\n",
      "Epoch 28/50\n",
      "14619/14619 [==============================] - 1s 96us/step - loss: 1.1861 - acc: 0.7091 - val_loss: 1.2066 - val_acc: 0.7006\n",
      "Epoch 29/50\n",
      "14619/14619 [==============================] - 1s 84us/step - loss: 1.1609 - acc: 0.7135 - val_loss: 1.1809 - val_acc: 0.7050\n",
      "Epoch 30/50\n",
      "14619/14619 [==============================] - 1s 88us/step - loss: 1.1369 - acc: 0.7180 - val_loss: 1.1598 - val_acc: 0.7091\n",
      "Epoch 31/50\n",
      "14619/14619 [==============================] - 1s 100us/step - loss: 1.1145 - acc: 0.7232 - val_loss: 1.1378 - val_acc: 0.7135\n",
      "Epoch 32/50\n",
      "14619/14619 [==============================] - 1s 97us/step - loss: 1.0936 - acc: 0.7265 - val_loss: 1.1179 - val_acc: 0.7211\n",
      "Epoch 33/50\n",
      "14619/14619 [==============================] - 1s 90us/step - loss: 1.0737 - acc: 0.7283 - val_loss: 1.0988 - val_acc: 0.7247\n",
      "Epoch 34/50\n",
      "14619/14619 [==============================] - 1s 81us/step - loss: 1.0550 - acc: 0.7347 - val_loss: 1.0810 - val_acc: 0.7257\n",
      "Epoch 35/50\n",
      "14619/14619 [==============================] - 1s 100us/step - loss: 1.0372 - acc: 0.7369 - val_loss: 1.0649 - val_acc: 0.7298\n",
      "Epoch 36/50\n",
      "14619/14619 [==============================] - 1s 73us/step - loss: 1.0203 - acc: 0.7401 - val_loss: 1.0494 - val_acc: 0.7309\n",
      "Epoch 37/50\n",
      "14619/14619 [==============================] - 2s 112us/step - loss: 1.0047 - acc: 0.7418 - val_loss: 1.0332 - val_acc: 0.7369\n",
      "Epoch 38/50\n",
      "14619/14619 [==============================] - 2s 130us/step - loss: 0.9895 - acc: 0.7462 - val_loss: 1.0178 - val_acc: 0.7400\n",
      "Epoch 39/50\n",
      "14619/14619 [==============================] - 2s 130us/step - loss: 0.9749 - acc: 0.7484 - val_loss: 1.0053 - val_acc: 0.7388\n",
      "Epoch 00039: early stopping\n"
     ]
    },
    {
     "data": {
      "text/plain": [
       "<keras.callbacks.History at 0x275c9ad3f60>"
      ]
     },
     "execution_count": 26,
     "metadata": {},
     "output_type": "execute_result"
    }
   ],
   "source": [
    "model_sig = Sequential()\n",
    "model_sig.add(Dense(128, activation='sigmoid', input_dim=150))\n",
    "model_sig.add(Dense(n, activation='softmax'))\n",
    "model_sig.compile(optimizer='sgd', loss='categorical_crossentropy', metrics=['accuracy'])\n",
    "model_sig.fit(train_x, train_y, epochs=50, callbacks=callbacks, validation_data=(dev_x, dev_y))"
   ]
  },
  {
   "cell_type": "code",
   "execution_count": 27,
   "metadata": {},
   "outputs": [
    {
     "name": "stdout",
     "output_type": "stream",
     "text": [
      "7152/7152 [==============================] - 1s 70us/step\n",
      "test_acc: 0.7455257270693513\n"
     ]
    }
   ],
   "source": [
    "test_loss, test_acc = model_sig.evaluate(devtest_x, devtest_y)\n",
    "print('test_acc:', test_acc)"
   ]
  },
  {
   "cell_type": "markdown",
   "metadata": {},
   "source": [
    "### Change hidden layers "
   ]
  },
  {
   "cell_type": "markdown",
   "metadata": {},
   "source": [
    "#### No hidden layer "
   ]
  },
  {
   "cell_type": "code",
   "execution_count": 28,
   "metadata": {},
   "outputs": [
    {
     "name": "stdout",
     "output_type": "stream",
     "text": [
      "Train on 14619 samples, validate on 4823 samples\n",
      "Epoch 1/50\n",
      "14619/14619 [==============================] - 2s 138us/step - loss: 2.9527 - acc: 0.1958 - val_loss: 2.7045 - val_acc: 0.3079\n",
      "Epoch 2/50\n",
      "14619/14619 [==============================] - 1s 92us/step - loss: 2.5120 - acc: 0.3523 - val_loss: 2.3638 - val_acc: 0.4027\n",
      "Epoch 3/50\n",
      "14619/14619 [==============================] - 1s 83us/step - loss: 2.2267 - acc: 0.4543 - val_loss: 2.1319 - val_acc: 0.4935\n",
      "Epoch 4/50\n",
      "14619/14619 [==============================] - 1s 90us/step - loss: 2.0229 - acc: 0.5281 - val_loss: 1.9600 - val_acc: 0.5501\n",
      "Epoch 5/50\n",
      "14619/14619 [==============================] - 1s 89us/step - loss: 1.8674 - acc: 0.5764 - val_loss: 1.8257 - val_acc: 0.5886\n",
      "Epoch 6/50\n",
      "14619/14619 [==============================] - 1s 95us/step - loss: 1.7439 - acc: 0.6104 - val_loss: 1.7177 - val_acc: 0.6148\n",
      "Epoch 7/50\n",
      "14619/14619 [==============================] - 1s 80us/step - loss: 1.6433 - acc: 0.6364 - val_loss: 1.6288 - val_acc: 0.6399\n",
      "Epoch 8/50\n",
      "14619/14619 [==============================] - 2s 103us/step - loss: 1.5595 - acc: 0.6561 - val_loss: 1.5540 - val_acc: 0.6552\n",
      "Epoch 9/50\n",
      "14619/14619 [==============================] - 1s 94us/step - loss: 1.4885 - acc: 0.6705 - val_loss: 1.4899 - val_acc: 0.6678\n",
      "Epoch 10/50\n",
      "14619/14619 [==============================] - 1s 69us/step - loss: 1.4273 - acc: 0.6853 - val_loss: 1.4345 - val_acc: 0.6782\n",
      "Epoch 11/50\n",
      "14619/14619 [==============================] - 1s 68us/step - loss: 1.3740 - acc: 0.6966 - val_loss: 1.3857 - val_acc: 0.6882\n",
      "Epoch 12/50\n",
      "14619/14619 [==============================] - 1s 66us/step - loss: 1.3270 - acc: 0.7059 - val_loss: 1.3424 - val_acc: 0.6956\n",
      "Epoch 13/50\n",
      "14619/14619 [==============================] - 1s 66us/step - loss: 1.2852 - acc: 0.7152 - val_loss: 1.3037 - val_acc: 0.7070\n",
      "Epoch 14/50\n",
      "14619/14619 [==============================] - 1s 82us/step - loss: 1.2477 - acc: 0.7221 - val_loss: 1.2687 - val_acc: 0.7132\n",
      "Epoch 15/50\n",
      "14619/14619 [==============================] - 1s 76us/step - loss: 1.2138 - acc: 0.7273 - val_loss: 1.2370 - val_acc: 0.7199\n",
      "Epoch 16/50\n",
      "14619/14619 [==============================] - 1s 73us/step - loss: 1.1830 - acc: 0.7335 - val_loss: 1.2080 - val_acc: 0.7236\n",
      "Epoch 17/50\n",
      "14619/14619 [==============================] - 1s 82us/step - loss: 1.1547 - acc: 0.7392 - val_loss: 1.1813 - val_acc: 0.7294\n",
      "Epoch 18/50\n",
      "14619/14619 [==============================] - 2s 148us/step - loss: 1.1288 - acc: 0.7442 - val_loss: 1.1567 - val_acc: 0.7332\n",
      "Epoch 19/50\n",
      "14619/14619 [==============================] - 1s 80us/step - loss: 1.1049 - acc: 0.7479 - val_loss: 1.1338 - val_acc: 0.7363\n",
      "Epoch 20/50\n",
      "14619/14619 [==============================] - 2s 120us/step - loss: 1.0828 - acc: 0.7515 - val_loss: 1.1125 - val_acc: 0.7402\n",
      "Epoch 21/50\n",
      "14619/14619 [==============================] - 1s 78us/step - loss: 1.0622 - acc: 0.7550 - val_loss: 1.0928 - val_acc: 0.7441\n",
      "Epoch 22/50\n",
      "14619/14619 [==============================] - 1s 73us/step - loss: 1.0431 - acc: 0.7584 - val_loss: 1.0743 - val_acc: 0.7468\n",
      "Epoch 23/50\n",
      "14619/14619 [==============================] - 1s 75us/step - loss: 1.0251 - acc: 0.7611 - val_loss: 1.0569 - val_acc: 0.7491\n",
      "Epoch 24/50\n",
      "14619/14619 [==============================] - 1s 50us/step - loss: 1.0083 - acc: 0.7639 - val_loss: 1.0406 - val_acc: 0.7514\n",
      "Epoch 25/50\n",
      "14619/14619 [==============================] - 1s 57us/step - loss: 0.9926 - acc: 0.7668 - val_loss: 1.0253 - val_acc: 0.7539\n",
      "Epoch 26/50\n",
      "14619/14619 [==============================] - 1s 51us/step - loss: 0.9777 - acc: 0.7691 - val_loss: 1.0108 - val_acc: 0.7560\n",
      "Epoch 27/50\n",
      "14619/14619 [==============================] - 1s 59us/step - loss: 0.9637 - acc: 0.7723 - val_loss: 0.9971 - val_acc: 0.7578\n",
      "Epoch 28/50\n",
      "14619/14619 [==============================] - 2s 105us/step - loss: 0.9504 - acc: 0.7739 - val_loss: 0.9842 - val_acc: 0.7593\n",
      "Epoch 29/50\n",
      "14619/14619 [==============================] - 1s 54us/step - loss: 0.9378 - acc: 0.7756 - val_loss: 0.9719 - val_acc: 0.7611\n",
      "Epoch 30/50\n",
      "14619/14619 [==============================] - 1s 48us/step - loss: 0.9259 - acc: 0.7775 - val_loss: 0.9603 - val_acc: 0.7620\n",
      "Epoch 31/50\n",
      "14619/14619 [==============================] - 1s 49us/step - loss: 0.9146 - acc: 0.7790 - val_loss: 0.9492 - val_acc: 0.7640\n",
      "Epoch 32/50\n",
      "14619/14619 [==============================] - 1s 50us/step - loss: 0.9038 - acc: 0.7806 - val_loss: 0.9386 - val_acc: 0.7667\n",
      "Epoch 33/50\n",
      "14619/14619 [==============================] - 1s 54us/step - loss: 0.8936 - acc: 0.7824 - val_loss: 0.9286 - val_acc: 0.7690\n",
      "Epoch 34/50\n",
      "14619/14619 [==============================] - 1s 49us/step - loss: 0.8838 - acc: 0.7836 - val_loss: 0.9189 - val_acc: 0.7696\n",
      "Epoch 35/50\n",
      "14619/14619 [==============================] - 1s 60us/step - loss: 0.8744 - acc: 0.7851 - val_loss: 0.9098 - val_acc: 0.7705\n",
      "Epoch 36/50\n",
      "14619/14619 [==============================] - 1s 52us/step - loss: 0.8655 - acc: 0.7863 - val_loss: 0.9010 - val_acc: 0.7721\n",
      "Epoch 37/50\n",
      "14619/14619 [==============================] - 1s 48us/step - loss: 0.8569 - acc: 0.7879 - val_loss: 0.8926 - val_acc: 0.7748\n",
      "Epoch 38/50\n",
      "14619/14619 [==============================] - 1s 54us/step - loss: 0.8487 - acc: 0.7897 - val_loss: 0.8845 - val_acc: 0.7761\n",
      "Epoch 39/50\n",
      "14619/14619 [==============================] - 1s 55us/step - loss: 0.8409 - acc: 0.7910 - val_loss: 0.8768 - val_acc: 0.7771\n",
      "Epoch 40/50\n",
      "14619/14619 [==============================] - 1s 51us/step - loss: 0.8333 - acc: 0.7925 - val_loss: 0.8693 - val_acc: 0.7784\n",
      "Epoch 41/50\n",
      "14619/14619 [==============================] - 1s 51us/step - loss: 0.8260 - acc: 0.7936 - val_loss: 0.8622 - val_acc: 0.7800\n",
      "Epoch 42/50\n",
      "14619/14619 [==============================] - 1s 52us/step - loss: 0.8190 - acc: 0.7946 - val_loss: 0.8553 - val_acc: 0.7815\n",
      "Epoch 43/50\n",
      "14619/14619 [==============================] - 1s 55us/step - loss: 0.8123 - acc: 0.7953 - val_loss: 0.8487 - val_acc: 0.7827\n",
      "Epoch 44/50\n",
      "14619/14619 [==============================] - 1s 55us/step - loss: 0.8058 - acc: 0.7962 - val_loss: 0.8423 - val_acc: 0.7842\n",
      "Epoch 45/50\n",
      "14619/14619 [==============================] - 1s 61us/step - loss: 0.7996 - acc: 0.7968 - val_loss: 0.8361 - val_acc: 0.7858\n",
      "Epoch 46/50\n",
      "14619/14619 [==============================] - 1s 53us/step - loss: 0.7935 - acc: 0.7984 - val_loss: 0.8302 - val_acc: 0.7871\n",
      "Epoch 47/50\n",
      "14619/14619 [==============================] - 1s 53us/step - loss: 0.7877 - acc: 0.8001 - val_loss: 0.8245 - val_acc: 0.7881\n",
      "Epoch 48/50\n",
      "14619/14619 [==============================] - 1s 51us/step - loss: 0.7821 - acc: 0.8011 - val_loss: 0.8190 - val_acc: 0.7891\n",
      "Epoch 49/50\n",
      "14619/14619 [==============================] - 1s 51us/step - loss: 0.7766 - acc: 0.8013 - val_loss: 0.8137 - val_acc: 0.7922\n",
      "Epoch 50/50\n",
      "14619/14619 [==============================] - 1s 50us/step - loss: 0.7714 - acc: 0.8029 - val_loss: 0.8085 - val_acc: 0.7929\n"
     ]
    },
    {
     "data": {
      "text/plain": [
       "<keras.callbacks.History at 0x275c9b000f0>"
      ]
     },
     "execution_count": 28,
     "metadata": {},
     "output_type": "execute_result"
    }
   ],
   "source": [
    "model_l0 = Sequential()\n",
    "model_l0.add(Dense(n, activation='softmax', input_dim=150))\n",
    "model_l0.compile(optimizer='sgd', loss='categorical_crossentropy', metrics=['accuracy'])\n",
    "model_l0.fit(train_x, train_y, epochs=50, callbacks=callbacks, validation_data=(dev_x, dev_y))"
   ]
  },
  {
   "cell_type": "code",
   "execution_count": 29,
   "metadata": {},
   "outputs": [
    {
     "name": "stdout",
     "output_type": "stream",
     "text": [
      "7152/7152 [==============================] - 0s 27us/step\n",
      "test_acc: 0.799496644295302\n"
     ]
    }
   ],
   "source": [
    "test_loss, test_acc = model_l0.evaluate(devtest_x, devtest_y)\n",
    "print('test_acc:', test_acc)"
   ]
  },
  {
   "cell_type": "markdown",
   "metadata": {},
   "source": [
    "#### 1 Hidden layer with width 256 "
   ]
  },
  {
   "cell_type": "code",
   "execution_count": 30,
   "metadata": {},
   "outputs": [
    {
     "name": "stdout",
     "output_type": "stream",
     "text": [
      "Train on 14619 samples, validate on 4823 samples\n",
      "Epoch 1/50\n",
      "14619/14619 [==============================] - 1s 93us/step - loss: 2.5429 - acc: 0.3413 - val_loss: 2.0813 - val_acc: 0.4868\n",
      "Epoch 2/50\n",
      "14619/14619 [==============================] - 1s 66us/step - loss: 1.8193 - acc: 0.5740 - val_loss: 1.6264 - val_acc: 0.6199\n",
      "Epoch 3/50\n",
      "14619/14619 [==============================] - 1s 71us/step - loss: 1.4629 - acc: 0.6648 - val_loss: 1.3639 - val_acc: 0.6795\n",
      "Epoch 4/50\n",
      "14619/14619 [==============================] - 1s 62us/step - loss: 1.2448 - acc: 0.7108 - val_loss: 1.1928 - val_acc: 0.7174\n",
      "Epoch 5/50\n",
      "14619/14619 [==============================] - 1s 67us/step - loss: 1.0993 - acc: 0.7361 - val_loss: 1.0737 - val_acc: 0.7390\n",
      "Epoch 6/50\n",
      "14619/14619 [==============================] - 1s 72us/step - loss: 0.9957 - acc: 0.7548 - val_loss: 0.9859 - val_acc: 0.7516\n",
      "Epoch 7/50\n",
      "14619/14619 [==============================] - 1s 62us/step - loss: 0.9183 - acc: 0.7695 - val_loss: 0.9193 - val_acc: 0.7649\n",
      "Epoch 8/50\n",
      "14619/14619 [==============================] - 1s 61us/step - loss: 0.8587 - acc: 0.7784 - val_loss: 0.8671 - val_acc: 0.7757\n",
      "Epoch 9/50\n",
      "14619/14619 [==============================] - 1s 64us/step - loss: 0.8116 - acc: 0.7871 - val_loss: 0.8253 - val_acc: 0.7808\n",
      "Epoch 10/50\n",
      "14619/14619 [==============================] - 1s 77us/step - loss: 0.7730 - acc: 0.7925 - val_loss: 0.7909 - val_acc: 0.7856\n",
      "Epoch 11/50\n",
      "14619/14619 [==============================] - 1s 84us/step - loss: 0.7410 - acc: 0.7987 - val_loss: 0.7626 - val_acc: 0.7893\n",
      "Epoch 12/50\n",
      "14619/14619 [==============================] - 1s 98us/step - loss: 0.7140 - acc: 0.8033 - val_loss: 0.7374 - val_acc: 0.7935\n",
      "Epoch 13/50\n",
      "14619/14619 [==============================] - 1s 73us/step - loss: 0.6907 - acc: 0.8085 - val_loss: 0.7165 - val_acc: 0.8003\n",
      "Epoch 14/50\n",
      "14619/14619 [==============================] - 1s 85us/step - loss: 0.6707 - acc: 0.8137 - val_loss: 0.6984 - val_acc: 0.8074\n",
      "Epoch 15/50\n",
      "14619/14619 [==============================] - 1s 82us/step - loss: 0.6530 - acc: 0.8185 - val_loss: 0.6828 - val_acc: 0.8119\n",
      "Epoch 16/50\n",
      "14619/14619 [==============================] - 2s 154us/step - loss: 0.6373 - acc: 0.8224 - val_loss: 0.6697 - val_acc: 0.8151\n",
      "Epoch 17/50\n",
      "14619/14619 [==============================] - 2s 137us/step - loss: 0.6236 - acc: 0.8247 - val_loss: 0.6569 - val_acc: 0.8175\n",
      "Epoch 18/50\n",
      "14619/14619 [==============================] - 1s 100us/step - loss: 0.6111 - acc: 0.8289 - val_loss: 0.6468 - val_acc: 0.8207\n",
      "Epoch 19/50\n",
      "14619/14619 [==============================] - 1s 91us/step - loss: 0.6001 - acc: 0.8320 - val_loss: 0.6364 - val_acc: 0.8229\n",
      "Epoch 20/50\n",
      "14619/14619 [==============================] - 1s 98us/step - loss: 0.5899 - acc: 0.8349 - val_loss: 0.6276 - val_acc: 0.8275\n",
      "Epoch 21/50\n",
      "14619/14619 [==============================] - 1s 97us/step - loss: 0.5808 - acc: 0.8380 - val_loss: 0.6201 - val_acc: 0.8294\n",
      "Epoch 22/50\n",
      "14619/14619 [==============================] - 1s 99us/step - loss: 0.5722 - acc: 0.8401 - val_loss: 0.6126 - val_acc: 0.8289\n",
      "Epoch 00022: early stopping\n"
     ]
    },
    {
     "data": {
      "text/plain": [
       "<keras.callbacks.History at 0x275c9ef3f98>"
      ]
     },
     "execution_count": 30,
     "metadata": {},
     "output_type": "execute_result"
    }
   ],
   "source": [
    "model_l1_l = Sequential()\n",
    "model_l1_l.add(Dense(256, activation='tanh', input_dim=150))\n",
    "model_l1_l.add(Dense(n, activation='softmax'))\n",
    "model_l1_l.compile(optimizer='sgd', loss='categorical_crossentropy', metrics=['accuracy'])\n",
    "model_l1_l.fit(train_x, train_y, epochs=50, callbacks=callbacks, validation_data=(dev_x, dev_y))"
   ]
  },
  {
   "cell_type": "code",
   "execution_count": 31,
   "metadata": {},
   "outputs": [
    {
     "name": "stdout",
     "output_type": "stream",
     "text": [
      "7152/7152 [==============================] - 0s 54us/step\n",
      "test_acc: 0.8322147651006712\n"
     ]
    }
   ],
   "source": [
    "test_loss, test_acc = model_l1_l.evaluate(devtest_x, devtest_y)\n",
    "print('test_acc:', test_acc)"
   ]
  },
  {
   "cell_type": "markdown",
   "metadata": {},
   "source": [
    "#### 2 hidden layers with width 256 & 128"
   ]
  },
  {
   "cell_type": "code",
   "execution_count": 32,
   "metadata": {},
   "outputs": [
    {
     "name": "stdout",
     "output_type": "stream",
     "text": [
      "Train on 14619 samples, validate on 4823 samples\n",
      "Epoch 1/50\n",
      "14619/14619 [==============================] - 2s 159us/step - loss: 2.3478 - acc: 0.4125 - val_loss: 1.8016 - val_acc: 0.5893\n",
      "Epoch 2/50\n",
      "14619/14619 [==============================] - 2s 103us/step - loss: 1.4966 - acc: 0.6465 - val_loss: 1.2941 - val_acc: 0.6813\n",
      "Epoch 3/50\n",
      "14619/14619 [==============================] - 2s 110us/step - loss: 1.1288 - acc: 0.7241 - val_loss: 1.0486 - val_acc: 0.7367\n",
      "Epoch 4/50\n",
      "14619/14619 [==============================] - 2s 113us/step - loss: 0.9406 - acc: 0.7609 - val_loss: 0.9124 - val_acc: 0.7607\n",
      "Epoch 5/50\n",
      "14619/14619 [==============================] - 2s 117us/step - loss: 0.8291 - acc: 0.7801 - val_loss: 0.8243 - val_acc: 0.7752\n",
      "Epoch 6/50\n",
      "14619/14619 [==============================] - 2s 120us/step - loss: 0.7558 - acc: 0.7916 - val_loss: 0.7655 - val_acc: 0.7864\n",
      "Epoch 7/50\n",
      "14619/14619 [==============================] - 2s 114us/step - loss: 0.7035 - acc: 0.8033 - val_loss: 0.7208 - val_acc: 0.7985\n",
      "Epoch 8/50\n",
      "14619/14619 [==============================] - 1s 98us/step - loss: 0.6643 - acc: 0.8136 - val_loss: 0.6875 - val_acc: 0.8076\n",
      "Epoch 9/50\n",
      "14619/14619 [==============================] - 2s 114us/step - loss: 0.6332 - acc: 0.8219 - val_loss: 0.6622 - val_acc: 0.8148\n",
      "Epoch 10/50\n",
      "14619/14619 [==============================] - 2s 127us/step - loss: 0.6082 - acc: 0.8297 - val_loss: 0.6420 - val_acc: 0.8211\n",
      "Epoch 11/50\n",
      "14619/14619 [==============================] - 1s 100us/step - loss: 0.5880 - acc: 0.8358 - val_loss: 0.6242 - val_acc: 0.8236\n",
      "Epoch 12/50\n",
      "14619/14619 [==============================] - 1s 100us/step - loss: 0.5705 - acc: 0.8399 - val_loss: 0.6080 - val_acc: 0.8269\n",
      "Epoch 13/50\n",
      "14619/14619 [==============================] - 2s 109us/step - loss: 0.5557 - acc: 0.8421 - val_loss: 0.5968 - val_acc: 0.8294\n",
      "Epoch 14/50\n",
      "14619/14619 [==============================] - 2s 113us/step - loss: 0.5428 - acc: 0.8456 - val_loss: 0.5865 - val_acc: 0.8312\n",
      "Epoch 15/50\n",
      "14619/14619 [==============================] - 1s 99us/step - loss: 0.5319 - acc: 0.8492 - val_loss: 0.5769 - val_acc: 0.8381\n",
      "Epoch 16/50\n",
      "14619/14619 [==============================] - 1s 96us/step - loss: 0.5220 - acc: 0.8526 - val_loss: 0.5694 - val_acc: 0.8372\n",
      "Epoch 00016: early stopping\n"
     ]
    },
    {
     "data": {
      "text/plain": [
       "<keras.callbacks.History at 0x275ca144a20>"
      ]
     },
     "execution_count": 32,
     "metadata": {},
     "output_type": "execute_result"
    }
   ],
   "source": [
    "model_l2_s = Sequential()\n",
    "model_l2_s.add(Dense(256, activation='tanh', input_dim=150))\n",
    "model_l2_s.add(Dense(128, activation='tanh'))\n",
    "model_l2_s.add(Dense(n, activation='softmax'))\n",
    "model_l2_s.compile(optimizer='sgd', loss='categorical_crossentropy', metrics=['accuracy'])\n",
    "model_l2_s.fit(train_x, train_y, epochs=50, callbacks=callbacks, validation_data=(dev_x, dev_y))"
   ]
  },
  {
   "cell_type": "code",
   "execution_count": 33,
   "metadata": {},
   "outputs": [
    {
     "name": "stdout",
     "output_type": "stream",
     "text": [
      "7152/7152 [==============================] - 0s 46us/step\n",
      "test_acc: 0.8414429530201343\n"
     ]
    }
   ],
   "source": [
    "test_loss, test_acc = model_l2_s.evaluate(devtest_x, devtest_y)\n",
    "print('test_acc:', test_acc)"
   ]
  },
  {
   "cell_type": "markdown",
   "metadata": {},
   "source": [
    "#### 2 hidden layers with width 512 & 256"
   ]
  },
  {
   "cell_type": "code",
   "execution_count": 34,
   "metadata": {},
   "outputs": [
    {
     "name": "stdout",
     "output_type": "stream",
     "text": [
      "Train on 14619 samples, validate on 4823 samples\n",
      "Epoch 1/50\n",
      "14619/14619 [==============================] - 3s 171us/step - loss: 2.1489 - acc: 0.4913 - val_loss: 1.5862 - val_acc: 0.6376\n",
      "Epoch 2/50\n",
      "14619/14619 [==============================] - 2s 149us/step - loss: 1.3053 - acc: 0.6959 - val_loss: 1.1504 - val_acc: 0.7257\n",
      "Epoch 3/50\n",
      "14619/14619 [==============================] - 2s 158us/step - loss: 1.0011 - acc: 0.7557 - val_loss: 0.9488 - val_acc: 0.7582\n",
      "Epoch 4/50\n",
      "14619/14619 [==============================] - 2s 165us/step - loss: 0.8478 - acc: 0.7835 - val_loss: 0.8350 - val_acc: 0.7767\n",
      "Epoch 5/50\n",
      "14619/14619 [==============================] - 2s 161us/step - loss: 0.7553 - acc: 0.7973 - val_loss: 0.7612 - val_acc: 0.7858\n",
      "Epoch 6/50\n",
      "14619/14619 [==============================] - 2s 171us/step - loss: 0.6932 - acc: 0.8087 - val_loss: 0.7100 - val_acc: 0.7972\n",
      "Epoch 7/50\n",
      "14619/14619 [==============================] - 3s 196us/step - loss: 0.6487 - acc: 0.8193 - val_loss: 0.6723 - val_acc: 0.8113\n",
      "Epoch 8/50\n",
      "14619/14619 [==============================] - 3s 188us/step - loss: 0.6156 - acc: 0.8271 - val_loss: 0.6439 - val_acc: 0.8211\n",
      "Epoch 9/50\n",
      "14619/14619 [==============================] - 3s 192us/step - loss: 0.5895 - acc: 0.8369 - val_loss: 0.6239 - val_acc: 0.8242\n",
      "Epoch 10/50\n",
      "14619/14619 [==============================] - 3s 234us/step - loss: 0.5691 - acc: 0.8416 - val_loss: 0.6069 - val_acc: 0.8302\n",
      "Epoch 11/50\n",
      "14619/14619 [==============================] - 4s 247us/step - loss: 0.5523 - acc: 0.8473 - val_loss: 0.5925 - val_acc: 0.8331\n",
      "Epoch 12/50\n",
      "14619/14619 [==============================] - 3s 216us/step - loss: 0.5381 - acc: 0.8508 - val_loss: 0.5816 - val_acc: 0.8360\n",
      "Epoch 13/50\n",
      "14619/14619 [==============================] - 4s 275us/step - loss: 0.5260 - acc: 0.8535 - val_loss: 0.5716 - val_acc: 0.8410\n",
      "Epoch 14/50\n",
      "14619/14619 [==============================] - 3s 185us/step - loss: 0.5157 - acc: 0.8574 - val_loss: 0.5638 - val_acc: 0.8441\n",
      "Epoch 15/50\n",
      "14619/14619 [==============================] - 3s 193us/step - loss: 0.5062 - acc: 0.8590 - val_loss: 0.5565 - val_acc: 0.8459\n",
      "Epoch 16/50\n",
      "14619/14619 [==============================] - 3s 197us/step - loss: 0.4982 - acc: 0.8603 - val_loss: 0.5543 - val_acc: 0.8428\n",
      "Epoch 00016: early stopping\n"
     ]
    },
    {
     "data": {
      "text/plain": [
       "<keras.callbacks.History at 0x275cb31ff60>"
      ]
     },
     "execution_count": 34,
     "metadata": {},
     "output_type": "execute_result"
    }
   ],
   "source": [
    "model_l2_l = Sequential()\n",
    "model_l2_l.add(Dense(512, activation='tanh', input_dim=150))\n",
    "model_l2_l.add(Dense(256, activation='tanh'))\n",
    "model_l2_l.add(Dense(n, activation='softmax'))\n",
    "model_l2_l.compile(optimizer='sgd', loss='categorical_crossentropy', metrics=['accuracy'])\n",
    "model_l2_l.fit(train_x, train_y, epochs=50, callbacks=callbacks, validation_data=(dev_x, dev_y))"
   ]
  },
  {
   "cell_type": "code",
   "execution_count": 35,
   "metadata": {},
   "outputs": [
    {
     "name": "stdout",
     "output_type": "stream",
     "text": [
      "7152/7152 [==============================] - 1s 98us/step\n",
      "test_acc: 0.8450782997762863\n"
     ]
    }
   ],
   "source": [
    "test_loss, test_acc = model_l2_l.evaluate(devtest_x, devtest_y)\n",
    "print('test_acc:', test_acc)"
   ]
  }
 ],
 "metadata": {
  "kernelspec": {
   "display_name": "Python 3",
   "language": "python",
   "name": "python3"
  },
  "language_info": {
   "codemirror_mode": {
    "name": "ipython",
    "version": 3
   },
   "file_extension": ".py",
   "mimetype": "text/x-python",
   "name": "python",
   "nbconvert_exporter": "python",
   "pygments_lexer": "ipython3",
   "version": "3.6.4"
  }
 },
 "nbformat": 4,
 "nbformat_minor": 2
}
